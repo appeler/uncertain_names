{
 "cells": [
  {
   "cell_type": "code",
   "execution_count": 1,
   "id": "1ced504c",
   "metadata": {},
   "outputs": [
    {
     "name": "stdout",
     "output_type": "stream",
     "text": [
      "2.5.1\n",
      "2.5.0\n"
     ]
    }
   ],
   "source": [
    "import tensorflow as tf\n",
    "from tensorflow import keras\n",
    "print(tf.__version__)\n",
    "print(keras.__version__)"
   ]
  },
  {
   "cell_type": "code",
   "execution_count": 2,
   "id": "b6c5411c",
   "metadata": {},
   "outputs": [],
   "source": [
    "from nonconformist.nc import NcFactory\n",
    "from nonconformist.cp import IcpClassifier"
   ]
  },
  {
   "cell_type": "code",
   "execution_count": 3,
   "id": "fdb50fd2",
   "metadata": {},
   "outputs": [
    {
     "data": {
      "text/html": [
       "<div>\n",
       "<style scoped>\n",
       "    .dataframe tbody tr th:only-of-type {\n",
       "        vertical-align: middle;\n",
       "    }\n",
       "\n",
       "    .dataframe tbody tr th {\n",
       "        vertical-align: top;\n",
       "    }\n",
       "\n",
       "    .dataframe thead th {\n",
       "        text-align: right;\n",
       "    }\n",
       "</style>\n",
       "<table border=\"1\" class=\"dataframe\">\n",
       "  <thead>\n",
       "    <tr style=\"text-align: right;\">\n",
       "      <th></th>\n",
       "      <th>name_last</th>\n",
       "      <th>name_first</th>\n",
       "      <th>race</th>\n",
       "    </tr>\n",
       "  </thead>\n",
       "  <tbody>\n",
       "    <tr>\n",
       "      <th>841323</th>\n",
       "      <td>Torres</td>\n",
       "      <td>Jose</td>\n",
       "      <td>hispanc</td>\n",
       "    </tr>\n",
       "    <tr>\n",
       "      <th>1408926</th>\n",
       "      <td>Da Silva</td>\n",
       "      <td>Amanda</td>\n",
       "      <td>nh_white</td>\n",
       "    </tr>\n",
       "    <tr>\n",
       "      <th>1733118</th>\n",
       "      <td>Mc Ghee</td>\n",
       "      <td>Sandra</td>\n",
       "      <td>nh_white</td>\n",
       "    </tr>\n",
       "    <tr>\n",
       "      <th>13104513</th>\n",
       "      <td>Karam</td>\n",
       "      <td>MELINDA</td>\n",
       "      <td>nh_white</td>\n",
       "    </tr>\n",
       "    <tr>\n",
       "      <th>9156114</th>\n",
       "      <td>Brewer</td>\n",
       "      <td>LAIA</td>\n",
       "      <td>nh_black</td>\n",
       "    </tr>\n",
       "    <tr>\n",
       "      <th>...</th>\n",
       "      <td>...</td>\n",
       "      <td>...</td>\n",
       "      <td>...</td>\n",
       "    </tr>\n",
       "    <tr>\n",
       "      <th>3076722</th>\n",
       "      <td>Antunez Avila</td>\n",
       "      <td>Robert</td>\n",
       "      <td>hispanc</td>\n",
       "    </tr>\n",
       "    <tr>\n",
       "      <th>10023679</th>\n",
       "      <td>Davis</td>\n",
       "      <td>WYATT</td>\n",
       "      <td>nh_white</td>\n",
       "    </tr>\n",
       "    <tr>\n",
       "      <th>5846252</th>\n",
       "      <td>Scott</td>\n",
       "      <td>Jacquelyn</td>\n",
       "      <td>nh_white</td>\n",
       "    </tr>\n",
       "    <tr>\n",
       "      <th>5959131</th>\n",
       "      <td>Parton</td>\n",
       "      <td>Douglas</td>\n",
       "      <td>nh_white</td>\n",
       "    </tr>\n",
       "    <tr>\n",
       "      <th>12031764</th>\n",
       "      <td>Knapp</td>\n",
       "      <td>Liza</td>\n",
       "      <td>nh_white</td>\n",
       "    </tr>\n",
       "  </tbody>\n",
       "</table>\n",
       "<p>1000000 rows × 3 columns</p>\n",
       "</div>"
      ],
      "text/plain": [
       "              name_last name_first      race\n",
       "841323           Torres       Jose   hispanc\n",
       "1408926        Da Silva     Amanda  nh_white\n",
       "1733118         Mc Ghee     Sandra  nh_white\n",
       "13104513          Karam    MELINDA  nh_white\n",
       "9156114          Brewer       LAIA  nh_black\n",
       "...                 ...        ...       ...\n",
       "3076722   Antunez Avila     Robert   hispanc\n",
       "10023679          Davis      WYATT  nh_white\n",
       "5846252           Scott  Jacquelyn  nh_white\n",
       "5959131          Parton    Douglas  nh_white\n",
       "12031764          Knapp       Liza  nh_white\n",
       "\n",
       "[1000000 rows x 3 columns]"
      ]
     },
     "execution_count": 3,
     "metadata": {},
     "output_type": "execute_result"
    }
   ],
   "source": [
    "import numpy as np\n",
    "import pandas as pd\n",
    "from sklearn.feature_extraction.text import CountVectorizer\n",
    "from sklearn.model_selection import train_test_split\n",
    "from sklearn.metrics import classification_report,confusion_matrix\n",
    "\n",
    "NGRAMS = 2\n",
    "SAMPLE = 1000000\n",
    "EPOCHS = 15\n",
    "\n",
    "# Florida voter\n",
    "df = pd.read_csv('../dataverse_files/fl_reg_name_race.csv.gz')\n",
    "df.dropna(subset=['name_first', 'name_last'], inplace=True)\n",
    "sdf = df[df.race.isin(['multi_racial', 'native_indian', 'other', 'unknown']) == False].sample(SAMPLE, random_state=21)\n",
    "del df\n",
    "\n",
    "# Additional features\n",
    "sdf['name_last'] = sdf.name_last.str.title()\n",
    "\n",
    "sdf"
   ]
  },
  {
   "cell_type": "markdown",
   "id": "1ff2e58b",
   "metadata": {},
   "source": [
    "##  Preprocessing the input data"
   ]
  },
  {
   "cell_type": "code",
   "execution_count": 4,
   "id": "efc221ed",
   "metadata": {},
   "outputs": [
    {
     "name": "stdout",
     "output_type": "stream",
     "text": [
      "num_words = 1166\n",
      "Max feature len = 26, Avg. feature len = 5\n"
     ]
    }
   ],
   "source": [
    "# last name only\n",
    "sdf['name_last_name_first'] = sdf['name_last']\n",
    "\n",
    "# build n-gram list\n",
    "vect = CountVectorizer(analyzer='char', max_df=0.3, min_df=3, ngram_range=(NGRAMS, NGRAMS), lowercase=False) \n",
    "a = vect.fit_transform(sdf.name_last_name_first)\n",
    "vocab = vect.vocabulary_\n",
    "\n",
    "# sort n-gram by freq (highest -> lowest)\n",
    "words = []\n",
    "for b in vocab:\n",
    "    c = vocab[b]\n",
    "    #print(b, c, a[:, c].sum())\n",
    "    words.append((a[:, c].sum(), b))\n",
    "    #break\n",
    "words = sorted(words, reverse=True)\n",
    "words_list = [w[1] for w in words]\n",
    "num_words = len(words_list)\n",
    "print(\"num_words = %d\" % num_words)\n",
    "\n",
    "\n",
    "def find_ngrams(text, n):\n",
    "    a = zip(*[text[i:] for i in range(n)])\n",
    "    wi = []\n",
    "    for i in a:\n",
    "        w = ''.join(i)\n",
    "        try:\n",
    "            idx = words_list.index(w)\n",
    "        except:\n",
    "            idx = 0\n",
    "        wi.append(idx)\n",
    "    return wi\n",
    "\n",
    "# build X from index of n-gram sequence\n",
    "X = np.array(sdf.name_last_name_first.apply(lambda c: find_ngrams(c, NGRAMS)))\n",
    "\n",
    "# check max/avg feature\n",
    "X_len = []\n",
    "for x in X:\n",
    "    X_len.append(len(x))\n",
    "\n",
    "max_feature_len = max(X_len)\n",
    "avg_feature_len = int(np.mean(X_len))\n",
    "\n",
    "print(\"Max feature len = %d, Avg. feature len = %d\" % (max_feature_len, avg_feature_len))\n",
    "y = np.array(sdf.race.astype('category').cat.codes)\n",
    "\n",
    "# Split train and test dataset\n",
    "X_train, X_test, y_train, y_test = train_test_split(X, y, test_size=0.2, random_state=21, stratify=y)\n",
    "X_train, X_calib, y_train, y_calib = train_test_split(X_train, y_train, test_size=.4, random_state=10, stratify=y_train)"
   ]
  },
  {
   "cell_type": "markdown",
   "id": "fb45154f",
   "metadata": {},
   "source": [
    "## Setting up the data"
   ]
  },
  {
   "cell_type": "code",
   "execution_count": 5,
   "id": "2c9619cd",
   "metadata": {},
   "outputs": [
    {
     "name": "stdout",
     "output_type": "stream",
     "text": [
      "480000 train sequences\n",
      "320000 calibration sequences\n",
      "200000 test sequences\n",
      "Pad sequences (samples x time)\n",
      "X_train shape: (480000, 20)\n",
      "X_calib shape: (320000, 20)\n",
      "X_test shape: (200000, 20)\n",
      "4 classes\n",
      "y_train shape: (480000,)\n",
      "y_calib shape: (320000,)\n",
      "y_test shape: (200000,)\n"
     ]
    }
   ],
   "source": [
    "from keras.preprocessing import sequence\n",
    "from keras.models import Sequential\n",
    "from keras.layers import Dense, Embedding, Dropout, Activation\n",
    "from keras.layers import LSTM\n",
    "from keras.layers.convolutional import Conv1D\n",
    "from keras.layers.convolutional import MaxPooling1D\n",
    "from keras.models import load_model\n",
    "\n",
    "max_features = num_words # 20000\n",
    "feature_len = 20 # avg_feature_len # cut texts after this number of words (among top max_features most common words)\n",
    "batch_size = 32\n",
    "\n",
    "print(len(X_train), 'train sequences')\n",
    "print(len(X_calib), 'calibration sequences')\n",
    "print(len(X_test), 'test sequences')\n",
    "\n",
    "print('Pad sequences (samples x time)')\n",
    "X_train = sequence.pad_sequences(X_train, maxlen=feature_len)\n",
    "X_calib = sequence.pad_sequences(X_calib, maxlen=feature_len)\n",
    "X_test = sequence.pad_sequences(X_test, maxlen=feature_len)\n",
    "print('X_train shape:', X_train.shape)\n",
    "print('X_calib shape:', X_calib.shape)\n",
    "print('X_test shape:', X_test.shape)\n",
    "\n",
    "num_classes = np.max(y_train) + 1\n",
    "print(num_classes, 'classes')\n",
    "\n",
    "\n",
    "###### Commenting out the conversion to categorical categories since nonconformist needs a single value\n",
    "#print('Convert class vector to binary class matrix '\n",
    "#      '(for use with categorical_crossentropy)')\n",
    "#y_train = tf.keras.utils.to_categorical(y_train, num_classes)\n",
    "#y_calib = tf.keras.utils.to_categorical(y_calib, num_classes)\n",
    "#y_test = tf.keras.utils.to_categorical(y_test, num_classes)\n",
    "print('y_train shape:', y_train.shape)\n",
    "print('y_calib shape:', y_calib.shape)\n",
    "print('y_test shape:', y_test.shape)"
   ]
  },
  {
   "cell_type": "code",
   "execution_count": 6,
   "id": "63fc250c",
   "metadata": {},
   "outputs": [],
   "source": [
    "from nonconformist.base import ClassifierAdapter\n",
    "from nonconformist.nc import ClassifierNc\n",
    "\n",
    "class MyClassifierAdapter(ClassifierAdapter):\n",
    "    def __init__(self, model, fit_params=None):\n",
    "        super(MyClassifierAdapter, self).__init__(model, fit_params)\n",
    "\n",
    "        \n",
    "    def fit(self, x, y):\n",
    "        '''\n",
    "            x is a numpy.array of shape (n_train, n_features)\n",
    "            y is a numpy.array of shape (n_train)\n",
    "            \n",
    "            Here, do what is necessary to train the underlying model\n",
    "            using the supplied training data\n",
    "        '''        \n",
    "        model = Sequential()\n",
    "        model.add(Embedding(num_words, 32, input_length=feature_len))\n",
    "        model.add(LSTM(128, dropout=0.2, recurrent_dropout=0.2))\n",
    "        model.add(Dense(num_classes, activation='softmax'))\n",
    "\n",
    "        # try using different optimizers and different optimizer configs\n",
    "        model.compile(loss='sparse_categorical_crossentropy',\n",
    "              optimizer='adam',\n",
    "              metrics=['accuracy'])\n",
    "        model.fit(x, y, batch_size=batch_size, epochs=EPOCHS,\n",
    "          validation_split=0.1, verbose=1)\n",
    "        \n",
    "        model.save('../models/fl_voter_reg/lstm/fl_all_name_lstm_nonconform.h5')\n",
    "    \n",
    "    def predict(self, x):\n",
    "        '''\n",
    "            Obtain predictions from the underlying model\n",
    "            \n",
    "            Make sure this function returns an output that is compatible with\n",
    "            the nonconformity function used. For default nonconformity functions,\n",
    "            output from this function should be class probability estimates in\n",
    "            a numpy.array of shape (n_test, n_classes)\n",
    "        '''\n",
    "        keras_model = keras.models.load_model('../models/fl_voter_reg/lstm/fl_all_name_lstm_nonconform.h5')\n",
    "        results = keras_model.predict(x)\n",
    "        return results\n",
    "    \n",
    "my_classifier = None # Initialize an object of your classifier's type\n",
    "model = MyClassifierAdapter(my_classifier)\n",
    "nc = ClassifierNc(model)"
   ]
  },
  {
   "cell_type": "code",
   "execution_count": 7,
   "id": "4217b8f3",
   "metadata": {},
   "outputs": [],
   "source": [
    "X_train = np.asarray(X_train).astype(np.float32)\n",
    "y_train = np.asarray(y_train).astype(np.float32)"
   ]
  },
  {
   "cell_type": "code",
   "execution_count": 8,
   "id": "fdd186e1",
   "metadata": {},
   "outputs": [
    {
     "name": "stdout",
     "output_type": "stream",
     "text": [
      "Epoch 1/15\n",
      "13500/13500 [==============================] - 322s 22ms/step - loss: 0.6879 - accuracy: 0.7500 - val_loss: 0.6144 - val_accuracy: 0.7752\n",
      "Epoch 2/15\n",
      "13500/13500 [==============================] - 287s 21ms/step - loss: 0.6181 - accuracy: 0.7732 - val_loss: 0.5969 - val_accuracy: 0.7827\n",
      "Epoch 3/15\n",
      "13500/13500 [==============================] - 288s 21ms/step - loss: 0.5968 - accuracy: 0.7812 - val_loss: 0.5830 - val_accuracy: 0.7869\n",
      "Epoch 4/15\n",
      "13500/13500 [==============================] - 297s 22ms/step - loss: 0.5827 - accuracy: 0.7852 - val_loss: 0.5736 - val_accuracy: 0.7909\n",
      "Epoch 5/15\n",
      "13500/13500 [==============================] - 292s 22ms/step - loss: 0.5758 - accuracy: 0.7885 - val_loss: 0.5675 - val_accuracy: 0.7920\n",
      "Epoch 6/15\n",
      "13500/13500 [==============================] - 307s 23ms/step - loss: 0.5660 - accuracy: 0.7916 - val_loss: 0.5637 - val_accuracy: 0.7952\n",
      "Epoch 7/15\n",
      "13500/13500 [==============================] - 295s 22ms/step - loss: 0.5638 - accuracy: 0.7922 - val_loss: 0.5615 - val_accuracy: 0.7935\n",
      "Epoch 8/15\n",
      "13500/13500 [==============================] - 290s 21ms/step - loss: 0.5586 - accuracy: 0.7939 - val_loss: 0.5594 - val_accuracy: 0.7955\n",
      "Epoch 9/15\n",
      "13500/13500 [==============================] - 326s 24ms/step - loss: 0.5563 - accuracy: 0.7937 - val_loss: 0.5565 - val_accuracy: 0.7965\n",
      "Epoch 10/15\n",
      "13500/13500 [==============================] - 365s 27ms/step - loss: 0.5544 - accuracy: 0.7944 - val_loss: 0.5544 - val_accuracy: 0.7978\n",
      "Epoch 11/15\n",
      "13500/13500 [==============================] - 354s 26ms/step - loss: 0.5521 - accuracy: 0.7956 - val_loss: 0.5572 - val_accuracy: 0.7965\n",
      "Epoch 12/15\n",
      "13500/13500 [==============================] - 379s 28ms/step - loss: 0.5519 - accuracy: 0.7964 - val_loss: 0.5529 - val_accuracy: 0.7987\n",
      "Epoch 13/15\n",
      "13500/13500 [==============================] - 362s 27ms/step - loss: 0.5480 - accuracy: 0.7969 - val_loss: 0.5534 - val_accuracy: 0.7984\n",
      "Epoch 14/15\n",
      "13500/13500 [==============================] - 393s 29ms/step - loss: 0.5483 - accuracy: 0.7968 - val_loss: 0.5543 - val_accuracy: 0.7985\n",
      "Epoch 15/15\n",
      "13500/13500 [==============================] - 423s 31ms/step - loss: 0.5470 - accuracy: 0.7976 - val_loss: 0.5531 - val_accuracy: 0.7968\n"
     ]
    }
   ],
   "source": [
    "icp = IcpClassifier(nc)\n",
    "icp.fit(X_train, y_train)\n",
    "icp.calibrate(X_calib, y_calib)"
   ]
  },
  {
   "cell_type": "code",
   "execution_count": 11,
   "id": "ab1869ae",
   "metadata": {},
   "outputs": [],
   "source": [
    "results = icp.predict(X_test)"
   ]
  },
  {
   "cell_type": "code",
   "execution_count": 12,
   "id": "fb23d1fc",
   "metadata": {},
   "outputs": [
    {
     "data": {
      "text/plain": [
       "array([[9.21821741e-02, 9.46809983e-02, 2.33383715e-01, 1.78622816e-01],\n",
       "       [1.89687672e-02, 1.93639573e-02, 5.60322126e-01, 5.55208362e-02],\n",
       "       [8.90947955e-02, 1.64423749e-01, 9.71109186e-02, 2.54510311e-01],\n",
       "       [3.64824782e-02, 4.08745054e-02, 8.25648927e-02, 4.47478258e-01],\n",
       "       [2.56222997e-02, 3.60127163e-02, 6.11281612e-02, 5.32809516e-01],\n",
       "       [9.12607212e-02, 2.53478954e-01, 9.30939957e-02, 1.65131907e-01],\n",
       "       [5.27466821e-02, 4.87196738e-02, 8.72436808e-02, 4.31135538e-01],\n",
       "       [5.95494263e-03, 6.58230402e-03, 8.28853238e-03, 8.67547118e-01],\n",
       "       [8.77181928e-02, 2.84729062e-01, 8.24941564e-02, 1.46698355e-01],\n",
       "       [8.28211240e-04, 1.69237244e-03, 3.60688461e-04, 9.73239259e-01]])"
      ]
     },
     "execution_count": 12,
     "metadata": {},
     "output_type": "execute_result"
    }
   ],
   "source": [
    "results[:10]"
   ]
  },
  {
   "cell_type": "code",
   "execution_count": null,
   "id": "2df353be",
   "metadata": {},
   "outputs": [],
   "source": []
  }
 ],
 "metadata": {
  "kernelspec": {
   "display_name": "Python 3 (ipykernel)",
   "language": "python",
   "name": "python3"
  },
  "language_info": {
   "codemirror_mode": {
    "name": "ipython",
    "version": 3
   },
   "file_extension": ".py",
   "mimetype": "text/x-python",
   "name": "python",
   "nbconvert_exporter": "python",
   "pygments_lexer": "ipython3",
   "version": "3.8.12"
  },
  "toc": {
   "base_numbering": 1,
   "nav_menu": {},
   "number_sections": true,
   "sideBar": true,
   "skip_h1_title": false,
   "title_cell": "Table of Contents",
   "title_sidebar": "Contents",
   "toc_cell": false,
   "toc_position": {},
   "toc_section_display": true,
   "toc_window_display": false
  }
 },
 "nbformat": 4,
 "nbformat_minor": 5
}
