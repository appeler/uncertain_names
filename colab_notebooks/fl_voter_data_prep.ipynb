{
 "cells": [
  {
   "cell_type": "code",
   "execution_count": 1,
   "metadata": {},
   "outputs": [],
   "source": [
    "import os\n",
    "import glob\n",
    "import numpy as np\n",
    "import pandas as pd"
   ]
  },
  {
   "cell_type": "code",
   "execution_count": 2,
   "metadata": {},
   "outputs": [],
   "source": [
    "os.chdir('../dataverse_files/20170207_VoterDetail/')\n",
    "files = [f for f in glob.glob('*.txt')]"
   ]
  },
  {
   "cell_type": "code",
   "execution_count": null,
   "metadata": {},
   "outputs": [
    {
     "name": "stdout",
     "output_type": "stream",
     "text": [
      "ALA_20170207.txt\n",
      "BAK_20170207.txt\n",
      "BAY_20170207.txt\n",
      "BRA_20170207.txt\n",
      "BRE_20170207.txt\n",
      "BRO_20170207.txt\n",
      "CAL_20170207.txt\n",
      "CHA_20170207.txt\n",
      "CIT_20170207.txt\n",
      "CLA_20170207.txt\n",
      "CLL_20170207.txt\n",
      "CLM_20170207.txt\n",
      "DAD_20170207.txt\n",
      "DES_20170207.txt\n",
      "DIX_20170207.txt\n",
      "DUV_20170207.txt\n",
      "ESC_20170207.txt\n",
      "FLA_20170207.txt\n",
      "FRA_20170207.txt\n",
      "GAD_20170207.txt\n",
      "GIL_20170207.txt\n",
      "GLA_20170207.txt\n",
      "GUL_20170207.txt\n",
      "HAM_20170207.txt\n",
      "HAR_20170207.txt\n",
      "HEN_20170207.txt\n",
      "HER_20170207.txt\n",
      "HIG_20170207.txt\n",
      "HIL_20170207.txt\n",
      "HOL_20170207.txt\n",
      "IND_20170207.txt\n",
      "JAC_20170207.txt\n",
      "JEF_20170207.txt\n",
      "LAF_20170207.txt\n",
      "LAK_20170207.txt\n",
      "LEE_20170207.txt\n",
      "LEO_20170207.txt\n",
      "LEV_20170207.txt\n",
      "LIB_20170207.txt\n",
      "MAD_20170207.txt\n",
      "MAN_20170207.txt\n",
      "MON_20170207.txt\n",
      "MRN_20170207.txt\n",
      "MRT_20170207.txt\n",
      "NAS_20170207.txt\n",
      "OKA_20170207.txt\n",
      "OKE_20170207.txt\n",
      "ORA_20170207.txt\n",
      "OSC_20170207.txt\n",
      "PAL_20170207.txt\n",
      "PAS_20170207.txt\n",
      "PIN_20170207.txt\n",
      "POL_20170207.txt\n",
      "PUT_20170207.txt\n",
      "SAN_20170207.txt\n",
      "SAR_20170207.txt\n",
      "SEM_20170207.txt\n"
     ]
    }
   ],
   "source": [
    "# Processing all files in the directory (one file per county)\n",
    "#    and merging the results into one big dataframe\n",
    "df = pd.DataFrame(columns=[2,4,20])\n",
    "for file in files:\n",
    "    print(file)\n",
    "    temp_df = pd.read_csv(file, sep='\\t', header=None, dtype='unicode')\n",
    "    temp_df = temp_df.iloc[:,[2,4,20]]\n",
    "    temp_df[temp_df.loc[:,[2,4,20]]=='*'] = np.nan\n",
    "    temp_df.dropna(subset=[2,4], inplace=True)\n",
    "    df = df.append(temp_df, ignore_index=True)\n",
    "print('Final Dataframe shape: ', df.shape)"
   ]
  },
  {
   "cell_type": "code",
   "execution_count": null,
   "metadata": {},
   "outputs": [],
   "source": [
    "# Applying a more descriptive columns headers\n",
    "df.rename(columns={2:'name_first', 4:'name_last', 20: 'race'}, inplace=True)"
   ]
  },
  {
   "cell_type": "code",
   "execution_count": null,
   "metadata": {},
   "outputs": [],
   "source": [
    "# Assigning the race for each voter\n",
    "df['race'].replace({'1':'native_indian',\n",
    "             '2':'asian',\n",
    "             '3':'nh_black',\n",
    "             '4':'hispanc',\n",
    "             '5':'nh_white',\n",
    "             '6':'other',\n",
    "             '7':'multi_racial',\n",
    "             '9':'unknown'}, inplace=True)\n",
    "df.head()"
   ]
  },
  {
   "cell_type": "code",
   "execution_count": null,
   "metadata": {},
   "outputs": [],
   "source": [
    "df.to_csv('../fl_reg_name_race.csv.gz', compression='gzip', index=False)"
   ]
  },
  {
   "cell_type": "code",
   "execution_count": null,
   "metadata": {},
   "outputs": [],
   "source": []
  }
 ],
 "metadata": {
  "kernelspec": {
   "display_name": "Python 3",
   "language": "python",
   "name": "python3"
  },
  "language_info": {
   "codemirror_mode": {
    "name": "ipython",
    "version": 3
   },
   "file_extension": ".py",
   "mimetype": "text/x-python",
   "name": "python",
   "nbconvert_exporter": "python",
   "pygments_lexer": "ipython3",
   "version": "3.8.5"
  }
 },
 "nbformat": 4,
 "nbformat_minor": 4
}
