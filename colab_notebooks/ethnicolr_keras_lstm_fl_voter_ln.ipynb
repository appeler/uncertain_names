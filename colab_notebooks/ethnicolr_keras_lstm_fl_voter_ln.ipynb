{
 "cells": [
  {
   "cell_type": "code",
   "execution_count": 1,
   "metadata": {},
   "outputs": [
    {
     "name": "stdout",
     "output_type": "stream",
     "text": [
      "2.4.0\n",
      "2.4.0\n"
     ]
    }
   ],
   "source": [
    "from tensorflow import keras\n",
    "import tensorflow as tf\n",
    "print(keras.__version__)\n",
    "print(tf.__version__)"
   ]
  },
  {
   "cell_type": "code",
   "execution_count": 2,
   "metadata": {},
   "outputs": [
    {
     "data": {
      "text/html": [
       "<div>\n",
       "<style scoped>\n",
       "    .dataframe tbody tr th:only-of-type {\n",
       "        vertical-align: middle;\n",
       "    }\n",
       "\n",
       "    .dataframe tbody tr th {\n",
       "        vertical-align: top;\n",
       "    }\n",
       "\n",
       "    .dataframe thead th {\n",
       "        text-align: right;\n",
       "    }\n",
       "</style>\n",
       "<table border=\"1\" class=\"dataframe\">\n",
       "  <thead>\n",
       "    <tr style=\"text-align: right;\">\n",
       "      <th></th>\n",
       "      <th>name_first</th>\n",
       "      <th>name_last</th>\n",
       "      <th>race</th>\n",
       "    </tr>\n",
       "  </thead>\n",
       "  <tbody>\n",
       "    <tr>\n",
       "      <th>841323</th>\n",
       "      <td>Torres</td>\n",
       "      <td>Jose</td>\n",
       "      <td>hispanc</td>\n",
       "    </tr>\n",
       "    <tr>\n",
       "      <th>1408926</th>\n",
       "      <td>Da Silva</td>\n",
       "      <td>Amanda</td>\n",
       "      <td>nh_white</td>\n",
       "    </tr>\n",
       "    <tr>\n",
       "      <th>1733118</th>\n",
       "      <td>Mc Ghee</td>\n",
       "      <td>Sandra</td>\n",
       "      <td>nh_white</td>\n",
       "    </tr>\n",
       "    <tr>\n",
       "      <th>13104513</th>\n",
       "      <td>KARAM</td>\n",
       "      <td>Melinda</td>\n",
       "      <td>nh_white</td>\n",
       "    </tr>\n",
       "    <tr>\n",
       "      <th>9156114</th>\n",
       "      <td>BREWER</td>\n",
       "      <td>Laia</td>\n",
       "      <td>nh_black</td>\n",
       "    </tr>\n",
       "    <tr>\n",
       "      <th>...</th>\n",
       "      <td>...</td>\n",
       "      <td>...</td>\n",
       "      <td>...</td>\n",
       "    </tr>\n",
       "    <tr>\n",
       "      <th>3076722</th>\n",
       "      <td>Antunez Avila</td>\n",
       "      <td>Robert</td>\n",
       "      <td>hispanc</td>\n",
       "    </tr>\n",
       "    <tr>\n",
       "      <th>10023679</th>\n",
       "      <td>DAVIS</td>\n",
       "      <td>Wyatt</td>\n",
       "      <td>nh_white</td>\n",
       "    </tr>\n",
       "    <tr>\n",
       "      <th>5846252</th>\n",
       "      <td>Scott</td>\n",
       "      <td>Jacquelyn</td>\n",
       "      <td>nh_white</td>\n",
       "    </tr>\n",
       "    <tr>\n",
       "      <th>5959131</th>\n",
       "      <td>Parton</td>\n",
       "      <td>Douglas</td>\n",
       "      <td>nh_white</td>\n",
       "    </tr>\n",
       "    <tr>\n",
       "      <th>12031764</th>\n",
       "      <td>Knapp</td>\n",
       "      <td>Liza</td>\n",
       "      <td>nh_white</td>\n",
       "    </tr>\n",
       "  </tbody>\n",
       "</table>\n",
       "<p>1000000 rows × 3 columns</p>\n",
       "</div>"
      ],
      "text/plain": [
       "             name_first  name_last      race\n",
       "841323           Torres       Jose   hispanc\n",
       "1408926        Da Silva     Amanda  nh_white\n",
       "1733118         Mc Ghee     Sandra  nh_white\n",
       "13104513          KARAM    Melinda  nh_white\n",
       "9156114          BREWER       Laia  nh_black\n",
       "...                 ...        ...       ...\n",
       "3076722   Antunez Avila     Robert   hispanc\n",
       "10023679          DAVIS      Wyatt  nh_white\n",
       "5846252           Scott  Jacquelyn  nh_white\n",
       "5959131          Parton    Douglas  nh_white\n",
       "12031764          Knapp       Liza  nh_white\n",
       "\n",
       "[1000000 rows x 3 columns]"
      ]
     },
     "execution_count": 2,
     "metadata": {},
     "output_type": "execute_result"
    }
   ],
   "source": [
    "import numpy as np\n",
    "import pandas as pd\n",
    "from sklearn.feature_extraction.text import CountVectorizer\n",
    "from sklearn.model_selection import train_test_split\n",
    "from sklearn.metrics import classification_report,confusion_matrix\n",
    "\n",
    "NGRAMS = 2\n",
    "SAMPLE = 1000000\n",
    "EPOCHS = 15\n",
    "\n",
    "# Florida voter\n",
    "df = pd.read_csv('../dataverse_files/fl_reg_name_race.csv.gz')\n",
    "df.dropna(subset=['name_first', 'name_last'], inplace=True)\n",
    "sdf = df[df.race.isin(['multi_racial', 'native_indian', 'other', 'unknown']) == False].sample(SAMPLE, random_state=21)\n",
    "del df\n",
    "\n",
    "# Additional features\n",
    "sdf['name_last'] = sdf.name_last.str.title()\n",
    "\n",
    "sdf"
   ]
  },
  {
   "cell_type": "code",
   "execution_count": 3,
   "metadata": {
    "scrolled": true
   },
   "outputs": [
    {
     "data": {
      "text/html": [
       "<div>\n",
       "<style scoped>\n",
       "    .dataframe tbody tr th:only-of-type {\n",
       "        vertical-align: middle;\n",
       "    }\n",
       "\n",
       "    .dataframe tbody tr th {\n",
       "        vertical-align: top;\n",
       "    }\n",
       "\n",
       "    .dataframe thead th {\n",
       "        text-align: right;\n",
       "    }\n",
       "</style>\n",
       "<table border=\"1\" class=\"dataframe\">\n",
       "  <thead>\n",
       "    <tr style=\"text-align: right;\">\n",
       "      <th></th>\n",
       "      <th>name_last</th>\n",
       "    </tr>\n",
       "    <tr>\n",
       "      <th>race</th>\n",
       "      <th></th>\n",
       "    </tr>\n",
       "  </thead>\n",
       "  <tbody>\n",
       "    <tr>\n",
       "      <th>asian</th>\n",
       "      <td>19431</td>\n",
       "    </tr>\n",
       "    <tr>\n",
       "      <th>hispanc</th>\n",
       "      <td>166865</td>\n",
       "    </tr>\n",
       "    <tr>\n",
       "      <th>nh_black</th>\n",
       "      <td>142675</td>\n",
       "    </tr>\n",
       "    <tr>\n",
       "      <th>nh_white</th>\n",
       "      <td>671029</td>\n",
       "    </tr>\n",
       "  </tbody>\n",
       "</table>\n",
       "</div>"
      ],
      "text/plain": [
       "          name_last\n",
       "race               \n",
       "asian         19431\n",
       "hispanc      166865\n",
       "nh_black     142675\n",
       "nh_white     671029"
      ]
     },
     "execution_count": 3,
     "metadata": {},
     "output_type": "execute_result"
    }
   ],
   "source": [
    "rdf = sdf.groupby('race').agg({'name_last': 'count'})\n",
    "rdf.to_csv('../dataverse_files/fl_voter_reg/lstm/fl_ln_race.csv', columns=[])\n",
    "rdf"
   ]
  },
  {
   "cell_type": "code",
   "execution_count": 4,
   "metadata": {},
   "outputs": [
    {
     "data": {
      "text/html": [
       "<div>\n",
       "<style scoped>\n",
       "    .dataframe tbody tr th:only-of-type {\n",
       "        vertical-align: middle;\n",
       "    }\n",
       "\n",
       "    .dataframe tbody tr th {\n",
       "        vertical-align: top;\n",
       "    }\n",
       "\n",
       "    .dataframe thead th {\n",
       "        text-align: right;\n",
       "    }\n",
       "</style>\n",
       "<table border=\"1\" class=\"dataframe\">\n",
       "  <thead>\n",
       "    <tr style=\"text-align: right;\">\n",
       "      <th></th>\n",
       "      <th>name_last</th>\n",
       "    </tr>\n",
       "    <tr>\n",
       "      <th>race</th>\n",
       "      <th></th>\n",
       "    </tr>\n",
       "  </thead>\n",
       "  <tbody>\n",
       "    <tr>\n",
       "      <th>asian</th>\n",
       "      <td>8933</td>\n",
       "    </tr>\n",
       "    <tr>\n",
       "      <th>hispanc</th>\n",
       "      <td>17512</td>\n",
       "    </tr>\n",
       "    <tr>\n",
       "      <th>nh_black</th>\n",
       "      <td>33422</td>\n",
       "    </tr>\n",
       "    <tr>\n",
       "      <th>nh_white</th>\n",
       "      <td>25575</td>\n",
       "    </tr>\n",
       "  </tbody>\n",
       "</table>\n",
       "</div>"
      ],
      "text/plain": [
       "          name_last\n",
       "race               \n",
       "asian          8933\n",
       "hispanc       17512\n",
       "nh_black      33422\n",
       "nh_white      25575"
      ]
     },
     "execution_count": 4,
     "metadata": {},
     "output_type": "execute_result"
    }
   ],
   "source": [
    "sdf.groupby('race').agg({'name_last': 'nunique'})"
   ]
  },
  {
   "cell_type": "markdown",
   "metadata": {},
   "source": [
    "## Preprocessing the input data"
   ]
  },
  {
   "cell_type": "code",
   "execution_count": 5,
   "metadata": {},
   "outputs": [
    {
     "name": "stdout",
     "output_type": "stream",
     "text": [
      "num_words = 1103\n",
      "Max feature len = 25, Avg. feature len = 5\n"
     ]
    }
   ],
   "source": [
    "# last name only\n",
    "sdf['name_last_name_first'] = sdf['name_last']\n",
    "\n",
    "# build n-gram list\n",
    "vect = CountVectorizer(analyzer='char', max_df=0.3, min_df=3, ngram_range=(NGRAMS, NGRAMS), lowercase=False) \n",
    "a = vect.fit_transform(sdf.name_last_name_first)\n",
    "vocab = vect.vocabulary_\n",
    "\n",
    "# sort n-gram by freq (highest -> lowest)\n",
    "words = []\n",
    "for b in vocab:\n",
    "    c = vocab[b]\n",
    "    #print(b, c, a[:, c].sum())\n",
    "    words.append((a[:, c].sum(), b))\n",
    "    #break\n",
    "words = sorted(words, reverse=True)\n",
    "words_list = [w[1] for w in words]\n",
    "num_words = len(words_list)\n",
    "print(\"num_words = %d\" % num_words)\n",
    "\n",
    "\n",
    "def find_ngrams(text, n):\n",
    "    a = zip(*[text[i:] for i in range(n)])\n",
    "    wi = []\n",
    "    for i in a:\n",
    "        w = ''.join(i)\n",
    "        try:\n",
    "            idx = words_list.index(w)\n",
    "        except:\n",
    "            idx = 0\n",
    "        wi.append(idx)\n",
    "    return wi\n",
    "\n",
    "# build X from index of n-gram sequence\n",
    "X = np.array(sdf.name_last_name_first.apply(lambda c: find_ngrams(c, NGRAMS)))\n",
    "\n",
    "# check max/avg feature\n",
    "X_len = []\n",
    "for x in X:\n",
    "    X_len.append(len(x))\n",
    "\n",
    "max_feature_len = max(X_len)\n",
    "avg_feature_len = int(np.mean(X_len))\n",
    "\n",
    "print(\"Max feature len = %d, Avg. feature len = %d\" % (max_feature_len, avg_feature_len))\n",
    "y = np.array(sdf.race.astype('category').cat.codes)\n",
    "\n",
    "# Split train and test dataset\n",
    "X_train,  X_test, y_train, y_test = train_test_split(X, y, test_size=0.2, random_state=21, stratify=y)"
   ]
  },
  {
   "cell_type": "markdown",
   "metadata": {},
   "source": [
    "## Train a LSTM model\n",
    "\n",
    "ref: http://machinelearningmastery.com/sequence-classification-lstm-recurrent-neural-networks-python-keras/"
   ]
  },
  {
   "cell_type": "code",
   "execution_count": 6,
   "metadata": {},
   "outputs": [
    {
     "name": "stdout",
     "output_type": "stream",
     "text": [
      "800000 train sequences\n",
      "200000 test sequences\n",
      "Pad sequences (samples x time)\n",
      "X_train shape: (800000, 20)\n",
      "X_test shape: (200000, 20)\n",
      "4 classes\n",
      "Convert class vector to binary class matrix (for use with categorical_crossentropy)\n",
      "y_train shape: (800000, 4)\n",
      "y_test shape: (200000, 4)\n"
     ]
    }
   ],
   "source": [
    "'''The dataset is actually too small for LSTM to be of any advantage\n",
    "compared to simpler, much faster methods such as TF-IDF + LogReg.\n",
    "Notes:\n",
    "\n",
    "- RNNs are tricky. Choice of batch size is important,\n",
    "choice of loss and optimizer is critical, etc.\n",
    "Some configurations won't converge.\n",
    "\n",
    "- LSTM loss decrease patterns during training can be quite different\n",
    "from what you see with CNNs/MLPs/etc.\n",
    "'''\n",
    "from tensorflow.keras.preprocessing import sequence\n",
    "from tensorflow.keras.models import Sequential\n",
    "from tensorflow.keras.layers import Dense, Embedding, Dropout, Activation\n",
    "from tensorflow.keras.layers import LSTM\n",
    "from tensorflow.keras.layers import Conv1D\n",
    "from tensorflow.keras.layers import MaxPooling1D\n",
    "from tensorflow.keras.models import load_model\n",
    "\n",
    "max_features = num_words # 20000\n",
    "feature_len = 20 # avg_feature_len # cut texts after this number of words (among top max_features most common words)\n",
    "batch_size = 32\n",
    "\n",
    "print(len(X_train), 'train sequences')\n",
    "print(len(X_test), 'test sequences')\n",
    "\n",
    "print('Pad sequences (samples x time)')\n",
    "X_train = sequence.pad_sequences(X_train, maxlen=feature_len)\n",
    "X_test = sequence.pad_sequences(X_test, maxlen=feature_len)\n",
    "print('X_train shape:', X_train.shape)\n",
    "print('X_test shape:', X_test.shape)\n",
    "\n",
    "num_classes = np.max(y_train) + 1\n",
    "print(num_classes, 'classes')\n",
    "\n",
    "print('Convert class vector to binary class matrix '\n",
    "      '(for use with categorical_crossentropy)')\n",
    "y_train = tf.keras.utils.to_categorical(y_train, num_classes)\n",
    "y_test = tf.keras.utils.to_categorical(y_test, num_classes)\n",
    "print('y_train shape:', y_train.shape)\n",
    "print('y_test shape:', y_test.shape)"
   ]
  },
  {
   "cell_type": "markdown",
   "metadata": {},
   "source": [
    "## Save model"
   ]
  },
  {
   "cell_type": "code",
   "execution_count": 11,
   "metadata": {},
   "outputs": [],
   "source": [
    "model.save('../dataverse_files/fl_voter_reg/lstm/fl_all_ln_lstm.h5')"
   ]
  },
  {
   "cell_type": "code",
   "execution_count": 12,
   "metadata": {},
   "outputs": [],
   "source": [
    "words_df = pd.DataFrame(words_list, columns=['vocab'])\n",
    "words_df.to_csv('../dataverse_files/fl_voter_reg/lstm/fl_all_ln_vocab.csv', index=False, encoding='utf-8')"
   ]
  },
  {
   "cell_type": "markdown",
   "metadata": {},
   "source": [
    "# Uncertainity Model"
   ]
  },
  {
   "cell_type": "code",
   "execution_count": 25,
   "metadata": {},
   "outputs": [
    {
     "name": "stdout",
     "output_type": "stream",
     "text": [
      "Build uncertainty model...\n",
      "Model: \"model_1\"\n",
      "_________________________________________________________________\n",
      "Layer (type)                 Output Shape              Param #   \n",
      "=================================================================\n",
      "input_3 (InputLayer)         [(None, 20)]              0         \n",
      "_________________________________________________________________\n",
      "embedding_3 (Embedding)      (None, 20, 32)            35296     \n",
      "_________________________________________________________________\n",
      "lstm_2 (LSTM)                (None, 128)               82432     \n",
      "_________________________________________________________________\n",
      "dense_2 (Dense)              (None, 4)                 516       \n",
      "=================================================================\n",
      "Total params: 118,244\n",
      "Trainable params: 118,244\n",
      "Non-trainable params: 0\n",
      "_________________________________________________________________\n",
      "None\n"
     ]
    }
   ],
   "source": [
    "print('Build uncertainty model...')\n",
    "\n",
    "#model_uncrtn = Sequential()\n",
    "input_ = keras.layers.Input(shape=(feature_len))\n",
    "layer_ = Embedding(num_words, 32) (input_)\n",
    "layer_ = LSTM(128, dropout=0.2, recurrent_dropout=0.2)(layer_, training=True)\n",
    "#layer_ = Dropout(0.25)(layer_, training=True)\n",
    "output = Dense(num_classes, activation='softmax') (layer_)\n",
    "\n",
    "model_uncrtn = keras.models.Model(inputs=input_, outputs=output)\n",
    "\n",
    "# try using different optimizers and different optimizer configs\n",
    "model_uncrtn.compile(loss='categorical_crossentropy',\n",
    "              optimizer='adam',\n",
    "              metrics=['accuracy'])\n",
    "\n",
    "print(model_uncrtn.summary())"
   ]
  },
  {
   "cell_type": "code",
   "execution_count": 26,
   "metadata": {},
   "outputs": [
    {
     "name": "stdout",
     "output_type": "stream",
     "text": [
      "Train...\n",
      "Epoch 1/15\n",
      "22500/22500 [==============================] - 422s 19ms/step - loss: 0.7446 - accuracy: 0.7364 - val_loss: 0.6784 - val_accuracy: 0.7628\n",
      "Epoch 2/15\n",
      "22500/22500 [==============================] - 413s 18ms/step - loss: 0.6694 - accuracy: 0.7670 - val_loss: 0.6567 - val_accuracy: 0.7720\n",
      "Epoch 3/15\n",
      "22500/22500 [==============================] - 405s 18ms/step - loss: 0.6506 - accuracy: 0.7745 - val_loss: 0.6491 - val_accuracy: 0.7761\n",
      "Epoch 4/15\n",
      "22500/22500 [==============================] - 397s 18ms/step - loss: 0.6413 - accuracy: 0.7775 - val_loss: 0.6452 - val_accuracy: 0.7778\n",
      "Epoch 5/15\n",
      "22500/22500 [==============================] - 397s 18ms/step - loss: 0.6338 - accuracy: 0.7806 - val_loss: 0.6428 - val_accuracy: 0.7779\n",
      "Epoch 6/15\n",
      "22500/22500 [==============================] - 400s 18ms/step - loss: 0.6328 - accuracy: 0.7816 - val_loss: 0.6396 - val_accuracy: 0.7792\n",
      "Epoch 7/15\n",
      "22500/22500 [==============================] - 408s 18ms/step - loss: 0.6309 - accuracy: 0.7818 - val_loss: 0.6392 - val_accuracy: 0.7796\n",
      "Epoch 8/15\n",
      "22500/22500 [==============================] - 403s 18ms/step - loss: 0.6297 - accuracy: 0.7829 - val_loss: 0.6374 - val_accuracy: 0.7807\n",
      "Epoch 9/15\n",
      "22500/22500 [==============================] - 397s 18ms/step - loss: 0.6283 - accuracy: 0.7831 - val_loss: 0.6382 - val_accuracy: 0.7798\n",
      "Epoch 10/15\n",
      "22500/22500 [==============================] - 397s 18ms/step - loss: 0.6269 - accuracy: 0.7839 - val_loss: 0.6364 - val_accuracy: 0.7805\n",
      "Epoch 11/15\n",
      "22500/22500 [==============================] - 397s 18ms/step - loss: 0.6243 - accuracy: 0.7850 - val_loss: 0.6373 - val_accuracy: 0.7807\n",
      "Epoch 12/15\n",
      "22500/22500 [==============================] - 399s 18ms/step - loss: 0.6240 - accuracy: 0.7848 - val_loss: 0.6362 - val_accuracy: 0.7810\n",
      "Epoch 13/15\n",
      "22500/22500 [==============================] - 401s 18ms/step - loss: 0.6222 - accuracy: 0.7856 - val_loss: 0.6361 - val_accuracy: 0.7816\n",
      "Epoch 14/15\n",
      "22500/22500 [==============================] - 396s 18ms/step - loss: 0.6223 - accuracy: 0.7858 - val_loss: 0.6357 - val_accuracy: 0.7809\n",
      "Epoch 15/15\n",
      "22500/22500 [==============================] - 397s 18ms/step - loss: 0.6232 - accuracy: 0.7849 - val_loss: 0.6360 - val_accuracy: 0.7811\n",
      "6250/6250 [==============================] - 30s 5ms/step - loss: 0.6349 - accuracy: 0.7811\n",
      "Test score: 0.6349396109580994\n",
      "Test accuracy: 0.7811049818992615\n"
     ]
    }
   ],
   "source": [
    "print('Train...')\n",
    "model_uncrtn.fit(X_train, y_train, batch_size=batch_size, epochs=EPOCHS,\n",
    "          validation_split=0.1, verbose=1)\n",
    "score, acc = model_uncrtn.evaluate(X_test, y_test,\n",
    "                            batch_size=batch_size, verbose=1)\n",
    "print('Test score:', score)\n",
    "print('Test accuracy:', acc)"
   ]
  },
  {
   "cell_type": "code",
   "execution_count": 27,
   "metadata": {},
   "outputs": [
    {
     "name": "stdout",
     "output_type": "stream",
     "text": [
      "6250/6250 [==============================] - 29s 5ms/step\n",
      "6250/6250 [==============================] - 29s 5ms/step\n",
      "6250/6250 [==============================] - 29s 5ms/step\n",
      "6250/6250 [==============================] - 29s 5ms/step\n",
      "6250/6250 [==============================] - 29s 5ms/step\n",
      "6250/6250 [==============================] - 29s 5ms/step\n",
      "6250/6250 [==============================] - 29s 5ms/step\n",
      "6250/6250 [==============================] - 29s 5ms/step\n",
      "6250/6250 [==============================] - 29s 5ms/step\n",
      "6250/6250 [==============================] - 29s 5ms/step\n",
      "6250/6250 [==============================] - 29s 5ms/step\n",
      "6250/6250 [==============================] - 29s 5ms/step\n",
      "6250/6250 [==============================] - 29s 5ms/step\n",
      "6250/6250 [==============================] - 29s 5ms/step\n",
      "6250/6250 [==============================] - 31s 5ms/step\n",
      "6250/6250 [==============================] - 29s 5ms/step\n",
      "6250/6250 [==============================] - 29s 5ms/step\n",
      "6250/6250 [==============================] - 29s 5ms/step\n",
      "6250/6250 [==============================] - 29s 5ms/step\n",
      "6250/6250 [==============================] - 29s 5ms/step\n",
      "6250/6250 [==============================] - 29s 5ms/step\n",
      "6250/6250 [==============================] - 29s 5ms/step\n",
      "6250/6250 [==============================] - 29s 5ms/step\n",
      "6250/6250 [==============================] - 29s 5ms/step\n",
      "6250/6250 [==============================] - 29s 5ms/step\n",
      "6250/6250 [==============================] - 29s 5ms/step\n",
      "6250/6250 [==============================] - 29s 5ms/step\n",
      "6250/6250 [==============================] - 29s 5ms/step\n",
      "6250/6250 [==============================] - 29s 5ms/step\n",
      "6250/6250 [==============================] - 29s 5ms/step\n",
      "6250/6250 [==============================] - 29s 5ms/step\n",
      "6250/6250 [==============================] - 29s 5ms/step\n",
      "6250/6250 [==============================] - 29s 5ms/step\n",
      "6250/6250 [==============================] - 29s 5ms/step\n",
      "6250/6250 [==============================] - 29s 5ms/step\n",
      "6250/6250 [==============================] - 29s 5ms/step\n",
      "6250/6250 [==============================] - 29s 5ms/step\n",
      "6250/6250 [==============================] - 29s 5ms/step\n",
      "6250/6250 [==============================] - 29s 5ms/step\n",
      "6250/6250 [==============================] - 29s 5ms/step\n",
      "6250/6250 [==============================] - 29s 5ms/step\n",
      "6250/6250 [==============================] - 29s 5ms/step\n",
      "6250/6250 [==============================] - 29s 5ms/step\n",
      "6250/6250 [==============================] - 29s 5ms/step\n",
      "6250/6250 [==============================] - 29s 5ms/step\n",
      "6250/6250 [==============================] - 29s 5ms/step\n",
      "6250/6250 [==============================] - 29s 5ms/step\n",
      "6250/6250 [==============================] - 29s 5ms/step\n",
      "6250/6250 [==============================] - 29s 5ms/step\n",
      "6250/6250 [==============================] - 29s 5ms/step\n",
      "6250/6250 [==============================] - 29s 5ms/step\n",
      "6250/6250 [==============================] - 29s 5ms/step\n",
      "6250/6250 [==============================] - 29s 5ms/step\n",
      "6250/6250 [==============================] - 29s 5ms/step\n",
      "6250/6250 [==============================] - 29s 5ms/step\n",
      "6250/6250 [==============================] - 29s 5ms/step\n",
      "6250/6250 [==============================] - 29s 5ms/step\n",
      "6250/6250 [==============================] - 29s 5ms/step\n",
      "6250/6250 [==============================] - 29s 5ms/step\n",
      "6250/6250 [==============================] - 29s 5ms/step\n",
      "6250/6250 [==============================] - 29s 5ms/step\n",
      "6250/6250 [==============================] - 29s 5ms/step\n",
      "6250/6250 [==============================] - 29s 5ms/step\n",
      "6250/6250 [==============================] - 29s 5ms/step\n",
      "6250/6250 [==============================] - 29s 5ms/step\n",
      "6250/6250 [==============================] - 29s 5ms/step\n",
      "6250/6250 [==============================] - 29s 5ms/step\n",
      "6250/6250 [==============================] - 29s 5ms/step\n",
      "6250/6250 [==============================] - 29s 5ms/step\n",
      "6250/6250 [==============================] - 29s 5ms/step\n",
      "6250/6250 [==============================] - 29s 5ms/step\n",
      "6250/6250 [==============================] - 29s 5ms/step\n",
      "6250/6250 [==============================] - 29s 5ms/step\n",
      "6250/6250 [==============================] - 29s 5ms/step\n",
      "6250/6250 [==============================] - 29s 5ms/step\n",
      "6250/6250 [==============================] - 29s 5ms/step\n",
      "6250/6250 [==============================] - 29s 5ms/step\n",
      "6250/6250 [==============================] - 29s 5ms/step\n",
      "6250/6250 [==============================] - 29s 5ms/step\n",
      "6250/6250 [==============================] - 29s 5ms/step\n",
      "6250/6250 [==============================] - 29s 5ms/step\n",
      "6250/6250 [==============================] - 29s 5ms/step\n",
      "6250/6250 [==============================] - 29s 5ms/step\n",
      "6250/6250 [==============================] - 29s 5ms/step\n",
      "6250/6250 [==============================] - 30s 5ms/step\n",
      "6250/6250 [==============================] - 30s 5ms/step\n",
      "6250/6250 [==============================] - 29s 5ms/step\n",
      "6250/6250 [==============================] - 29s 5ms/step\n",
      "6250/6250 [==============================] - 29s 5ms/step\n",
      "6250/6250 [==============================] - 29s 5ms/step\n",
      "6250/6250 [==============================] - 30s 5ms/step\n",
      "6250/6250 [==============================] - 29s 5ms/step\n",
      "6250/6250 [==============================] - 29s 5ms/step\n",
      "6250/6250 [==============================] - 29s 5ms/step\n",
      "6250/6250 [==============================] - 29s 5ms/step\n",
      "6250/6250 [==============================] - 29s 5ms/step\n",
      "6250/6250 [==============================] - 29s 5ms/step\n",
      "6250/6250 [==============================] - 29s 5ms/step\n",
      "6250/6250 [==============================] - 29s 5ms/step\n",
      "6250/6250 [==============================] - 29s 5ms/step\n"
     ]
    }
   ],
   "source": [
    "predictions = []\n",
    "\n",
    "ITER=100\n",
    "\n",
    "for _ in range(ITER):\n",
    "    predictions.append(model_uncrtn.predict(X_test, verbose=1))"
   ]
  },
  {
   "cell_type": "code",
   "execution_count": 28,
   "metadata": {},
   "outputs": [],
   "source": [
    "predict_array = np.array(predictions)"
   ]
  },
  {
   "cell_type": "code",
   "execution_count": 29,
   "metadata": {},
   "outputs": [],
   "source": [
    "# Creating a seperate array for each measurement\n",
    "mean_arr = predict_array.mean(axis=0).reshape(-1,4)\n",
    "std_arr = predict_array.std(axis=0).reshape(-1,4)\n",
    "pct_5_arr = np.quantile(predict_array, .05, axis=0).reshape(-1,4)\n",
    "pct_95_arr = np.quantile(predict_array, .95, axis=0).reshape(-1,4)"
   ]
  },
  {
   "cell_type": "code",
   "execution_count": 30,
   "metadata": {},
   "outputs": [],
   "source": [
    "# Selecting the class based on teh mean value with the highest probability\n",
    "final_pred_arr = mean_arr.argmax(axis=1)"
   ]
  },
  {
   "cell_type": "code",
   "execution_count": 31,
   "metadata": {},
   "outputs": [
    {
     "data": {
      "text/plain": [
       "(200000,)"
      ]
     },
     "execution_count": 31,
     "metadata": {},
     "output_type": "execute_result"
    }
   ],
   "source": [
    "final_pred_arr.shape"
   ]
  },
  {
   "cell_type": "markdown",
   "metadata": {},
   "source": [
    "# Creating Final DataFrame"
   ]
  },
  {
   "cell_type": "code",
   "execution_count": 34,
   "metadata": {},
   "outputs": [],
   "source": [
    "target_names = list(sdf.race.astype('category').cat.categories)"
   ]
  },
  {
   "cell_type": "code",
   "execution_count": 42,
   "metadata": {},
   "outputs": [],
   "source": [
    "predict_df = pd.DataFrame(columns = ['pred', 'category' , 'pred_5', 'pred_95', 'pred_se'])\n",
    "\n",
    "for i in range(len(final_pred_arr)):\n",
    "    pred = final_pred_arr[i]\n",
    "    category = target_names[pred]\n",
    "    pred_5 = pct_5_arr[i,pred]\n",
    "    pred_95 = pct_95_arr[i,pred]\n",
    "    pred_se = std_arr[i,pred]\n",
    "    \n",
    "    predict_df = predict_df.append({'pred':pred, \n",
    "                                    'category': category,\n",
    "                                    'pred_5':pred_5, \n",
    "                                    'pred_95': pred_95, \n",
    "                                    'pred_se':pred_se}, ignore_index=True)"
   ]
  },
  {
   "cell_type": "code",
   "execution_count": 43,
   "metadata": {},
   "outputs": [
    {
     "data": {
      "text/html": [
       "<div>\n",
       "<style scoped>\n",
       "    .dataframe tbody tr th:only-of-type {\n",
       "        vertical-align: middle;\n",
       "    }\n",
       "\n",
       "    .dataframe tbody tr th {\n",
       "        vertical-align: top;\n",
       "    }\n",
       "\n",
       "    .dataframe thead th {\n",
       "        text-align: right;\n",
       "    }\n",
       "</style>\n",
       "<table border=\"1\" class=\"dataframe\">\n",
       "  <thead>\n",
       "    <tr style=\"text-align: right;\">\n",
       "      <th></th>\n",
       "      <th>pred</th>\n",
       "      <th>category</th>\n",
       "      <th>pred_5</th>\n",
       "      <th>pred_95</th>\n",
       "      <th>pred_se</th>\n",
       "    </tr>\n",
       "  </thead>\n",
       "  <tbody>\n",
       "    <tr>\n",
       "      <th>0</th>\n",
       "      <td>3</td>\n",
       "      <td>nh_white</td>\n",
       "      <td>0.466160</td>\n",
       "      <td>0.776006</td>\n",
       "      <td>0.091654</td>\n",
       "    </tr>\n",
       "    <tr>\n",
       "      <th>1</th>\n",
       "      <td>3</td>\n",
       "      <td>nh_white</td>\n",
       "      <td>0.784752</td>\n",
       "      <td>0.890695</td>\n",
       "      <td>0.034224</td>\n",
       "    </tr>\n",
       "    <tr>\n",
       "      <th>2</th>\n",
       "      <td>3</td>\n",
       "      <td>nh_white</td>\n",
       "      <td>0.324650</td>\n",
       "      <td>0.490653</td>\n",
       "      <td>0.051946</td>\n",
       "    </tr>\n",
       "    <tr>\n",
       "      <th>3</th>\n",
       "      <td>3</td>\n",
       "      <td>nh_white</td>\n",
       "      <td>0.746301</td>\n",
       "      <td>0.872112</td>\n",
       "      <td>0.039808</td>\n",
       "    </tr>\n",
       "    <tr>\n",
       "      <th>4</th>\n",
       "      <td>3</td>\n",
       "      <td>nh_white</td>\n",
       "      <td>0.286234</td>\n",
       "      <td>0.748420</td>\n",
       "      <td>0.138514</td>\n",
       "    </tr>\n",
       "    <tr>\n",
       "      <th>...</th>\n",
       "      <td>...</td>\n",
       "      <td>...</td>\n",
       "      <td>...</td>\n",
       "      <td>...</td>\n",
       "      <td>...</td>\n",
       "    </tr>\n",
       "    <tr>\n",
       "      <th>199995</th>\n",
       "      <td>3</td>\n",
       "      <td>nh_white</td>\n",
       "      <td>0.653034</td>\n",
       "      <td>0.790576</td>\n",
       "      <td>0.041229</td>\n",
       "    </tr>\n",
       "    <tr>\n",
       "      <th>199996</th>\n",
       "      <td>2</td>\n",
       "      <td>nh_black</td>\n",
       "      <td>0.699155</td>\n",
       "      <td>0.952282</td>\n",
       "      <td>0.081714</td>\n",
       "    </tr>\n",
       "    <tr>\n",
       "      <th>199997</th>\n",
       "      <td>3</td>\n",
       "      <td>nh_white</td>\n",
       "      <td>0.652905</td>\n",
       "      <td>0.873807</td>\n",
       "      <td>0.066446</td>\n",
       "    </tr>\n",
       "    <tr>\n",
       "      <th>199998</th>\n",
       "      <td>3</td>\n",
       "      <td>nh_white</td>\n",
       "      <td>0.883809</td>\n",
       "      <td>0.931329</td>\n",
       "      <td>0.013905</td>\n",
       "    </tr>\n",
       "    <tr>\n",
       "      <th>199999</th>\n",
       "      <td>3</td>\n",
       "      <td>nh_white</td>\n",
       "      <td>0.706343</td>\n",
       "      <td>0.874085</td>\n",
       "      <td>0.072131</td>\n",
       "    </tr>\n",
       "  </tbody>\n",
       "</table>\n",
       "<p>200000 rows × 5 columns</p>\n",
       "</div>"
      ],
      "text/plain": [
       "       pred  category    pred_5   pred_95   pred_se\n",
       "0         3  nh_white  0.466160  0.776006  0.091654\n",
       "1         3  nh_white  0.784752  0.890695  0.034224\n",
       "2         3  nh_white  0.324650  0.490653  0.051946\n",
       "3         3  nh_white  0.746301  0.872112  0.039808\n",
       "4         3  nh_white  0.286234  0.748420  0.138514\n",
       "...     ...       ...       ...       ...       ...\n",
       "199995    3  nh_white  0.653034  0.790576  0.041229\n",
       "199996    2  nh_black  0.699155  0.952282  0.081714\n",
       "199997    3  nh_white  0.652905  0.873807  0.066446\n",
       "199998    3  nh_white  0.883809  0.931329  0.013905\n",
       "199999    3  nh_white  0.706343  0.874085  0.072131\n",
       "\n",
       "[200000 rows x 5 columns]"
      ]
     },
     "execution_count": 43,
     "metadata": {},
     "output_type": "execute_result"
    }
   ],
   "source": [
    "predict_df"
   ]
  },
  {
   "cell_type": "code",
   "execution_count": 49,
   "metadata": {},
   "outputs": [
    {
     "data": {
      "text/plain": [
       "nh_white    159340\n",
       "hispanc      27666\n",
       "nh_black     11502\n",
       "asian         1492\n",
       "Name: category, dtype: int64"
      ]
     },
     "execution_count": 49,
     "metadata": {},
     "output_type": "execute_result"
    }
   ],
   "source": [
    "predict_df['category'].value_counts()"
   ]
  }
 ],
 "metadata": {
  "kernelspec": {
   "display_name": "Python 3",
   "language": "python",
   "name": "python3"
  },
  "language_info": {
   "codemirror_mode": {
    "name": "ipython",
    "version": 3
   },
   "file_extension": ".py",
   "mimetype": "text/x-python",
   "name": "python",
   "nbconvert_exporter": "python",
   "pygments_lexer": "ipython3",
   "version": "3.8.5"
  }
 },
 "nbformat": 4,
 "nbformat_minor": 2
}
