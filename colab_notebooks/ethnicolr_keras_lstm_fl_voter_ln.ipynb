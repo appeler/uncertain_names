{
 "cells": [
  {
   "cell_type": "code",
   "execution_count": 1,
   "metadata": {},
   "outputs": [
    {
     "name": "stdout",
     "output_type": "stream",
     "text": [
      "2.6.0\n",
      "2.6.0\n"
     ]
    }
   ],
   "source": [
    "from tensorflow import keras\n",
    "import tensorflow as tf\n",
    "print(keras.__version__)\n",
    "print(tf.__version__)"
   ]
  },
  {
   "cell_type": "code",
   "execution_count": 2,
   "metadata": {},
   "outputs": [
    {
     "data": {
      "text/html": [
       "<div>\n",
       "<style scoped>\n",
       "    .dataframe tbody tr th:only-of-type {\n",
       "        vertical-align: middle;\n",
       "    }\n",
       "\n",
       "    .dataframe tbody tr th {\n",
       "        vertical-align: top;\n",
       "    }\n",
       "\n",
       "    .dataframe thead th {\n",
       "        text-align: right;\n",
       "    }\n",
       "</style>\n",
       "<table border=\"1\" class=\"dataframe\">\n",
       "  <thead>\n",
       "    <tr style=\"text-align: right;\">\n",
       "      <th></th>\n",
       "      <th>name_last</th>\n",
       "      <th>name_first</th>\n",
       "      <th>race</th>\n",
       "    </tr>\n",
       "  </thead>\n",
       "  <tbody>\n",
       "    <tr>\n",
       "      <th>841323</th>\n",
       "      <td>Torres</td>\n",
       "      <td>Jose</td>\n",
       "      <td>hispanc</td>\n",
       "    </tr>\n",
       "    <tr>\n",
       "      <th>1408926</th>\n",
       "      <td>Da Silva</td>\n",
       "      <td>Amanda</td>\n",
       "      <td>nh_white</td>\n",
       "    </tr>\n",
       "    <tr>\n",
       "      <th>1733118</th>\n",
       "      <td>Mc Ghee</td>\n",
       "      <td>Sandra</td>\n",
       "      <td>nh_white</td>\n",
       "    </tr>\n",
       "    <tr>\n",
       "      <th>13104513</th>\n",
       "      <td>Karam</td>\n",
       "      <td>MELINDA</td>\n",
       "      <td>nh_white</td>\n",
       "    </tr>\n",
       "    <tr>\n",
       "      <th>9156114</th>\n",
       "      <td>Brewer</td>\n",
       "      <td>LAIA</td>\n",
       "      <td>nh_black</td>\n",
       "    </tr>\n",
       "    <tr>\n",
       "      <th>...</th>\n",
       "      <td>...</td>\n",
       "      <td>...</td>\n",
       "      <td>...</td>\n",
       "    </tr>\n",
       "    <tr>\n",
       "      <th>3076722</th>\n",
       "      <td>Antunez Avila</td>\n",
       "      <td>Robert</td>\n",
       "      <td>hispanc</td>\n",
       "    </tr>\n",
       "    <tr>\n",
       "      <th>10023679</th>\n",
       "      <td>Davis</td>\n",
       "      <td>WYATT</td>\n",
       "      <td>nh_white</td>\n",
       "    </tr>\n",
       "    <tr>\n",
       "      <th>5846252</th>\n",
       "      <td>Scott</td>\n",
       "      <td>Jacquelyn</td>\n",
       "      <td>nh_white</td>\n",
       "    </tr>\n",
       "    <tr>\n",
       "      <th>5959131</th>\n",
       "      <td>Parton</td>\n",
       "      <td>Douglas</td>\n",
       "      <td>nh_white</td>\n",
       "    </tr>\n",
       "    <tr>\n",
       "      <th>12031764</th>\n",
       "      <td>Knapp</td>\n",
       "      <td>Liza</td>\n",
       "      <td>nh_white</td>\n",
       "    </tr>\n",
       "  </tbody>\n",
       "</table>\n",
       "<p>1000000 rows × 3 columns</p>\n",
       "</div>"
      ],
      "text/plain": [
       "              name_last name_first      race\n",
       "841323           Torres       Jose   hispanc\n",
       "1408926        Da Silva     Amanda  nh_white\n",
       "1733118         Mc Ghee     Sandra  nh_white\n",
       "13104513          Karam    MELINDA  nh_white\n",
       "9156114          Brewer       LAIA  nh_black\n",
       "...                 ...        ...       ...\n",
       "3076722   Antunez Avila     Robert   hispanc\n",
       "10023679          Davis      WYATT  nh_white\n",
       "5846252           Scott  Jacquelyn  nh_white\n",
       "5959131          Parton    Douglas  nh_white\n",
       "12031764          Knapp       Liza  nh_white\n",
       "\n",
       "[1000000 rows x 3 columns]"
      ]
     },
     "execution_count": 2,
     "metadata": {},
     "output_type": "execute_result"
    }
   ],
   "source": [
    "import numpy as np\n",
    "import pandas as pd\n",
    "from sklearn.feature_extraction.text import CountVectorizer\n",
    "from sklearn.model_selection import train_test_split\n",
    "from sklearn.metrics import classification_report,confusion_matrix\n",
    "\n",
    "NGRAMS = 2\n",
    "SAMPLE = 1000000\n",
    "EPOCHS = 15\n",
    "\n",
    "# Florida voter\n",
    "df = pd.read_csv('../dataverse_files/fl_reg_name_race.csv.gz')\n",
    "df.dropna(subset=['name_first', 'name_last'], inplace=True)\n",
    "sdf = df[df.race.isin(['multi_racial', 'native_indian', 'other', 'unknown']) == False].sample(SAMPLE, random_state=21)\n",
    "del df\n",
    "\n",
    "# Additional features\n",
    "sdf['name_last'] = sdf.name_last.str.title()\n",
    "\n",
    "sdf"
   ]
  },
  {
   "cell_type": "code",
   "execution_count": 3,
   "metadata": {
    "scrolled": true
   },
   "outputs": [
    {
     "data": {
      "text/html": [
       "<div>\n",
       "<style scoped>\n",
       "    .dataframe tbody tr th:only-of-type {\n",
       "        vertical-align: middle;\n",
       "    }\n",
       "\n",
       "    .dataframe tbody tr th {\n",
       "        vertical-align: top;\n",
       "    }\n",
       "\n",
       "    .dataframe thead th {\n",
       "        text-align: right;\n",
       "    }\n",
       "</style>\n",
       "<table border=\"1\" class=\"dataframe\">\n",
       "  <thead>\n",
       "    <tr style=\"text-align: right;\">\n",
       "      <th></th>\n",
       "      <th>name_last</th>\n",
       "    </tr>\n",
       "    <tr>\n",
       "      <th>race</th>\n",
       "      <th></th>\n",
       "    </tr>\n",
       "  </thead>\n",
       "  <tbody>\n",
       "    <tr>\n",
       "      <th>asian</th>\n",
       "      <td>19431</td>\n",
       "    </tr>\n",
       "    <tr>\n",
       "      <th>hispanc</th>\n",
       "      <td>166865</td>\n",
       "    </tr>\n",
       "    <tr>\n",
       "      <th>nh_black</th>\n",
       "      <td>142675</td>\n",
       "    </tr>\n",
       "    <tr>\n",
       "      <th>nh_white</th>\n",
       "      <td>671029</td>\n",
       "    </tr>\n",
       "  </tbody>\n",
       "</table>\n",
       "</div>"
      ],
      "text/plain": [
       "          name_last\n",
       "race               \n",
       "asian         19431\n",
       "hispanc      166865\n",
       "nh_black     142675\n",
       "nh_white     671029"
      ]
     },
     "execution_count": 3,
     "metadata": {},
     "output_type": "execute_result"
    }
   ],
   "source": [
    "rdf = sdf.groupby('race').agg({'name_last': 'count'})\n",
    "rdf.to_csv('../dataverse_files/fl_voter_reg/lstm/fl_ln_race.csv', columns=[])\n",
    "rdf"
   ]
  },
  {
   "cell_type": "code",
   "execution_count": 4,
   "metadata": {},
   "outputs": [
    {
     "data": {
      "text/html": [
       "<div>\n",
       "<style scoped>\n",
       "    .dataframe tbody tr th:only-of-type {\n",
       "        vertical-align: middle;\n",
       "    }\n",
       "\n",
       "    .dataframe tbody tr th {\n",
       "        vertical-align: top;\n",
       "    }\n",
       "\n",
       "    .dataframe thead th {\n",
       "        text-align: right;\n",
       "    }\n",
       "</style>\n",
       "<table border=\"1\" class=\"dataframe\">\n",
       "  <thead>\n",
       "    <tr style=\"text-align: right;\">\n",
       "      <th></th>\n",
       "      <th>name_last</th>\n",
       "    </tr>\n",
       "    <tr>\n",
       "      <th>race</th>\n",
       "      <th></th>\n",
       "    </tr>\n",
       "  </thead>\n",
       "  <tbody>\n",
       "    <tr>\n",
       "      <th>asian</th>\n",
       "      <td>9364</td>\n",
       "    </tr>\n",
       "    <tr>\n",
       "      <th>hispanc</th>\n",
       "      <td>41721</td>\n",
       "    </tr>\n",
       "    <tr>\n",
       "      <th>nh_black</th>\n",
       "      <td>23079</td>\n",
       "    </tr>\n",
       "    <tr>\n",
       "      <th>nh_white</th>\n",
       "      <td>145852</td>\n",
       "    </tr>\n",
       "  </tbody>\n",
       "</table>\n",
       "</div>"
      ],
      "text/plain": [
       "          name_last\n",
       "race               \n",
       "asian          9364\n",
       "hispanc       41721\n",
       "nh_black      23079\n",
       "nh_white     145852"
      ]
     },
     "execution_count": 4,
     "metadata": {},
     "output_type": "execute_result"
    }
   ],
   "source": [
    "sdf.groupby('race').agg({'name_last': 'nunique'})"
   ]
  },
  {
   "cell_type": "markdown",
   "metadata": {},
   "source": [
    "## Preprocessing the input data"
   ]
  },
  {
   "cell_type": "code",
   "execution_count": 5,
   "metadata": {},
   "outputs": [
    {
     "data": {
      "text/html": [
       "<div>\n",
       "<style scoped>\n",
       "    .dataframe tbody tr th:only-of-type {\n",
       "        vertical-align: middle;\n",
       "    }\n",
       "\n",
       "    .dataframe tbody tr th {\n",
       "        vertical-align: top;\n",
       "    }\n",
       "\n",
       "    .dataframe thead th {\n",
       "        text-align: right;\n",
       "    }\n",
       "</style>\n",
       "<table border=\"1\" class=\"dataframe\">\n",
       "  <thead>\n",
       "    <tr style=\"text-align: right;\">\n",
       "      <th></th>\n",
       "      <th>name_last</th>\n",
       "      <th>name_first</th>\n",
       "      <th>race</th>\n",
       "    </tr>\n",
       "  </thead>\n",
       "  <tbody>\n",
       "    <tr>\n",
       "      <th>841323</th>\n",
       "      <td>Torres</td>\n",
       "      <td>Jose</td>\n",
       "      <td>hispanc</td>\n",
       "    </tr>\n",
       "    <tr>\n",
       "      <th>1408926</th>\n",
       "      <td>Da Silva</td>\n",
       "      <td>Amanda</td>\n",
       "      <td>nh_white</td>\n",
       "    </tr>\n",
       "    <tr>\n",
       "      <th>1733118</th>\n",
       "      <td>Mc Ghee</td>\n",
       "      <td>Sandra</td>\n",
       "      <td>nh_white</td>\n",
       "    </tr>\n",
       "    <tr>\n",
       "      <th>13104513</th>\n",
       "      <td>Karam</td>\n",
       "      <td>MELINDA</td>\n",
       "      <td>nh_white</td>\n",
       "    </tr>\n",
       "    <tr>\n",
       "      <th>9156114</th>\n",
       "      <td>Brewer</td>\n",
       "      <td>LAIA</td>\n",
       "      <td>nh_black</td>\n",
       "    </tr>\n",
       "  </tbody>\n",
       "</table>\n",
       "</div>"
      ],
      "text/plain": [
       "         name_last name_first      race\n",
       "841323      Torres       Jose   hispanc\n",
       "1408926   Da Silva     Amanda  nh_white\n",
       "1733118    Mc Ghee     Sandra  nh_white\n",
       "13104513     Karam    MELINDA  nh_white\n",
       "9156114     Brewer       LAIA  nh_black"
      ]
     },
     "execution_count": 5,
     "metadata": {},
     "output_type": "execute_result"
    }
   ],
   "source": [
    "sdf.head()"
   ]
  },
  {
   "cell_type": "code",
   "execution_count": 6,
   "metadata": {},
   "outputs": [
    {
     "name": "stdout",
     "output_type": "stream",
     "text": [
      "num_words = 1166\n",
      "Max feature len = 26, Avg. feature len = 5\n"
     ]
    }
   ],
   "source": [
    "# last name only\n",
    "sdf['name_last_name_first'] = sdf['name_last']\n",
    "\n",
    "# build n-gram list\n",
    "vect = CountVectorizer(analyzer='char', max_df=0.3, min_df=3, ngram_range=(NGRAMS, NGRAMS), lowercase=False) \n",
    "a = vect.fit_transform(sdf.name_last_name_first)\n",
    "vocab = vect.vocabulary_\n",
    "\n",
    "# sort n-gram by freq (highest -> lowest)\n",
    "words = []\n",
    "for b in vocab:\n",
    "    c = vocab[b]\n",
    "    #print(b, c, a[:, c].sum())\n",
    "    words.append((a[:, c].sum(), b))\n",
    "    #break\n",
    "words = sorted(words, reverse=True)\n",
    "words_list = [w[1] for w in words]\n",
    "num_words = len(words_list)\n",
    "print(\"num_words = %d\" % num_words)\n",
    "\n",
    "\n",
    "def find_ngrams(text, n):\n",
    "    a = zip(*[text[i:] for i in range(n)])\n",
    "    wi = []\n",
    "    for i in a:\n",
    "        w = ''.join(i)\n",
    "        try:\n",
    "            idx = words_list.index(w)\n",
    "        except:\n",
    "            idx = 0\n",
    "        wi.append(idx)\n",
    "    return wi\n",
    "\n",
    "# build X from index of n-gram sequence\n",
    "X = np.array(sdf.name_last_name_first.apply(lambda c: find_ngrams(c, NGRAMS)))\n",
    "\n",
    "# check max/avg feature\n",
    "X_len = []\n",
    "for x in X:\n",
    "    X_len.append(len(x))\n",
    "\n",
    "max_feature_len = max(X_len)\n",
    "avg_feature_len = int(np.mean(X_len))\n",
    "\n",
    "print(\"Max feature len = %d, Avg. feature len = %d\" % (max_feature_len, avg_feature_len))\n",
    "y = np.array(sdf.race.astype('category').cat.codes)\n",
    "\n",
    "# Split train and test dataset\n",
    "X_train,  X_test, y_train, y_test = train_test_split(X, y, test_size=0.2, random_state=21, stratify=y)"
   ]
  },
  {
   "cell_type": "markdown",
   "metadata": {},
   "source": [
    "## Train a LSTM model\n",
    "\n",
    "ref: http://machinelearningmastery.com/sequence-classification-lstm-recurrent-neural-networks-python-keras/"
   ]
  },
  {
   "cell_type": "code",
   "execution_count": 7,
   "metadata": {},
   "outputs": [
    {
     "name": "stdout",
     "output_type": "stream",
     "text": [
      "800000 train sequences\n",
      "200000 test sequences\n",
      "Pad sequences (samples x time)\n",
      "X_train shape: (800000, 20)\n",
      "X_test shape: (200000, 20)\n",
      "4 classes\n",
      "Convert class vector to binary class matrix (for use with categorical_crossentropy)\n",
      "y_train shape: (800000, 4)\n",
      "y_test shape: (200000, 4)\n"
     ]
    }
   ],
   "source": [
    "'''The dataset is actually too small for LSTM to be of any advantage\n",
    "compared to simpler, much faster methods such as TF-IDF + LogReg.\n",
    "Notes:\n",
    "\n",
    "- RNNs are tricky. Choice of batch size is important,\n",
    "choice of loss and optimizer is critical, etc.\n",
    "Some configurations won't converge.\n",
    "\n",
    "- LSTM loss decrease patterns during training can be quite different\n",
    "from what you see with CNNs/MLPs/etc.\n",
    "'''\n",
    "from tensorflow.keras.preprocessing import sequence\n",
    "from tensorflow.keras.models import Sequential\n",
    "from tensorflow.keras.layers import Dense, Embedding, Dropout, Activation\n",
    "from tensorflow.keras.layers import LSTM\n",
    "from tensorflow.keras.layers import Conv1D\n",
    "from tensorflow.keras.layers import MaxPooling1D\n",
    "from tensorflow.keras.models import load_model\n",
    "\n",
    "max_features = num_words # 20000\n",
    "feature_len = 20 # avg_feature_len # cut texts after this number of words (among top max_features most common words)\n",
    "batch_size = 32\n",
    "\n",
    "print(len(X_train), 'train sequences')\n",
    "print(len(X_test), 'test sequences')\n",
    "\n",
    "print('Pad sequences (samples x time)')\n",
    "X_train = sequence.pad_sequences(X_train, maxlen=feature_len)\n",
    "X_test = sequence.pad_sequences(X_test, maxlen=feature_len)\n",
    "print('X_train shape:', X_train.shape)\n",
    "print('X_test shape:', X_test.shape)\n",
    "\n",
    "num_classes = np.max(y_train) + 1\n",
    "print(num_classes, 'classes')\n",
    "\n",
    "print('Convert class vector to binary class matrix '\n",
    "      '(for use with categorical_crossentropy)')\n",
    "y_train = tf.keras.utils.to_categorical(y_train, num_classes)\n",
    "y_test = tf.keras.utils.to_categorical(y_test, num_classes)\n",
    "print('y_train shape:', y_train.shape)\n",
    "print('y_test shape:', y_test.shape)"
   ]
  },
  {
   "cell_type": "markdown",
   "metadata": {},
   "source": [
    "# Uncertainity Model"
   ]
  },
  {
   "cell_type": "code",
   "execution_count": 8,
   "metadata": {},
   "outputs": [
    {
     "name": "stdout",
     "output_type": "stream",
     "text": [
      "Build uncertainty model...\n",
      "Model: \"model\"\n",
      "_________________________________________________________________\n",
      "Layer (type)                 Output Shape              Param #   \n",
      "=================================================================\n",
      "input_1 (InputLayer)         [(None, 20)]              0         \n",
      "_________________________________________________________________\n",
      "embedding (Embedding)        (None, 20, 32)            37312     \n",
      "_________________________________________________________________\n",
      "lstm (LSTM)                  (None, 128)               82432     \n",
      "_________________________________________________________________\n",
      "dense (Dense)                (None, 4)                 516       \n",
      "=================================================================\n",
      "Total params: 120,260\n",
      "Trainable params: 120,260\n",
      "Non-trainable params: 0\n",
      "_________________________________________________________________\n",
      "None\n"
     ]
    }
   ],
   "source": [
    "print('Build uncertainty model...')\n",
    "\n",
    "#model_uncrtn = Sequential()\n",
    "input_ = keras.layers.Input(shape=(feature_len))\n",
    "layer_ = Embedding(num_words, 32) (input_)\n",
    "layer_ = LSTM(128, dropout=0.2, recurrent_dropout=0.2)(layer_, training=True)\n",
    "#layer_ = Dropout(0.25)(layer_, training=True)\n",
    "output = Dense(num_classes, activation='softmax') (layer_)\n",
    "\n",
    "model_uncrtn = keras.models.Model(inputs=input_, outputs=output)\n",
    "\n",
    "# try using different optimizers and different optimizer configs\n",
    "model_uncrtn.compile(loss='categorical_crossentropy',\n",
    "              optimizer='adam',\n",
    "              metrics=['accuracy'])\n",
    "\n",
    "print(model_uncrtn.summary())"
   ]
  },
  {
   "cell_type": "code",
   "execution_count": 9,
   "metadata": {},
   "outputs": [
    {
     "name": "stdout",
     "output_type": "stream",
     "text": [
      "Train...\n",
      "Epoch 1/15\n",
      "22500/22500 [==============================] - 462s 20ms/step - loss: 0.6367 - accuracy: 0.7673 - val_loss: 0.6103 - val_accuracy: 0.7784\n",
      "Epoch 2/15\n",
      "22500/22500 [==============================] - 453s 20ms/step - loss: 0.5971 - accuracy: 0.7814 - val_loss: 0.5901 - val_accuracy: 0.7850\n",
      "Epoch 3/15\n",
      "22500/22500 [==============================] - 457s 20ms/step - loss: 0.5807 - accuracy: 0.7868 - val_loss: 0.5811 - val_accuracy: 0.7873\n",
      "Epoch 4/15\n",
      "22500/22500 [==============================] - 461s 20ms/step - loss: 0.5720 - accuracy: 0.7897 - val_loss: 0.5775 - val_accuracy: 0.7886\n",
      "Epoch 5/15\n",
      "22500/22500 [==============================] - 457s 20ms/step - loss: 0.5662 - accuracy: 0.7915 - val_loss: 0.5731 - val_accuracy: 0.7893\n",
      "Epoch 6/15\n",
      "22500/22500 [==============================] - 441s 20ms/step - loss: 0.5625 - accuracy: 0.7931 - val_loss: 0.5718 - val_accuracy: 0.7911\n",
      "Epoch 7/15\n",
      "22500/22500 [==============================] - 453s 20ms/step - loss: 0.5600 - accuracy: 0.7937 - val_loss: 0.5700 - val_accuracy: 0.7910\n",
      "Epoch 8/15\n",
      "22500/22500 [==============================] - 441s 20ms/step - loss: 0.5581 - accuracy: 0.7946 - val_loss: 0.5692 - val_accuracy: 0.7912\n",
      "Epoch 9/15\n",
      "22500/22500 [==============================] - 447s 20ms/step - loss: 0.5561 - accuracy: 0.7950 - val_loss: 0.5692 - val_accuracy: 0.7918\n",
      "Epoch 10/15\n",
      "22500/22500 [==============================] - 450s 20ms/step - loss: 0.5554 - accuracy: 0.7956 - val_loss: 0.5686 - val_accuracy: 0.7921\n",
      "Epoch 11/15\n",
      "22500/22500 [==============================] - 449s 20ms/step - loss: 0.5544 - accuracy: 0.7955 - val_loss: 0.5672 - val_accuracy: 0.7921\n",
      "Epoch 12/15\n",
      "22500/22500 [==============================] - 457s 20ms/step - loss: 0.5535 - accuracy: 0.7958 - val_loss: 0.5667 - val_accuracy: 0.7923\n",
      "Epoch 13/15\n",
      "22500/22500 [==============================] - 451s 20ms/step - loss: 0.5529 - accuracy: 0.7962 - val_loss: 0.5677 - val_accuracy: 0.7933\n",
      "Epoch 14/15\n",
      "22500/22500 [==============================] - 448s 20ms/step - loss: 0.5523 - accuracy: 0.7965 - val_loss: 0.5665 - val_accuracy: 0.7932\n",
      "Epoch 15/15\n",
      "22500/22500 [==============================] - 450s 20ms/step - loss: 0.5519 - accuracy: 0.7965 - val_loss: 0.5668 - val_accuracy: 0.7929\n",
      "6250/6250 [==============================] - 38s 6ms/step - loss: 0.5674 - accuracy: 0.7932\n",
      "Test score: 0.5673536062240601\n",
      "Test accuracy: 0.7931749820709229\n"
     ]
    }
   ],
   "source": [
    "print('Train...')\n",
    "model_uncrtn.fit(X_train, y_train, batch_size=batch_size, epochs=EPOCHS,\n",
    "          validation_split=0.1, verbose=1)\n",
    "score, acc = model_uncrtn.evaluate(X_test, y_test,\n",
    "                            batch_size=batch_size, verbose=1)\n",
    "print('Test score:', score)\n",
    "print('Test accuracy:', acc)"
   ]
  },
  {
   "cell_type": "markdown",
   "metadata": {},
   "source": [
    "## Save model"
   ]
  },
  {
   "cell_type": "code",
   "execution_count": 10,
   "metadata": {
    "scrolled": false
   },
   "outputs": [],
   "source": [
    "model_uncrtn.save('../dataverse_files/fl_voter_reg/lstm/fl_all_ln_lstm.h5')"
   ]
  },
  {
   "cell_type": "code",
   "execution_count": 11,
   "metadata": {},
   "outputs": [],
   "source": [
    "words_df = pd.DataFrame(words_list, columns=['vocab'])\n",
    "words_df.to_csv('../dataverse_files/fl_voter_reg/lstm/fl_all_ln_vocab.csv', index=False, encoding='utf-8')"
   ]
  },
  {
   "cell_type": "code",
   "execution_count": 12,
   "metadata": {},
   "outputs": [
    {
     "name": "stdout",
     "output_type": "stream",
     "text": [
      "6250/6250 [==============================] - 37s 6ms/step\n",
      "6250/6250 [==============================] - 36s 6ms/step\n",
      "6250/6250 [==============================] - 36s 6ms/step\n",
      "6250/6250 [==============================] - 36s 6ms/step\n",
      "6250/6250 [==============================] - 36s 6ms/step\n",
      "6250/6250 [==============================] - 40s 6ms/step\n",
      "6250/6250 [==============================] - 36s 6ms/step\n",
      "6250/6250 [==============================] - 37s 6ms/step\n",
      "6250/6250 [==============================] - 37s 6ms/step\n",
      "6250/6250 [==============================] - 36s 6ms/step\n",
      "6250/6250 [==============================] - 36s 6ms/step\n",
      "6250/6250 [==============================] - 35s 6ms/step\n",
      "6250/6250 [==============================] - 36s 6ms/step\n",
      "6250/6250 [==============================] - 36s 6ms/step\n",
      "6250/6250 [==============================] - 36s 6ms/step\n",
      "6250/6250 [==============================] - 36s 6ms/step\n",
      "6250/6250 [==============================] - 36s 6ms/step\n",
      "6250/6250 [==============================] - 37s 6ms/step\n",
      "6250/6250 [==============================] - 36s 6ms/step\n",
      "6250/6250 [==============================] - 36s 6ms/step\n",
      "6250/6250 [==============================] - 36s 6ms/step\n",
      "6250/6250 [==============================] - 37s 6ms/step\n",
      "6250/6250 [==============================] - 37s 6ms/step\n",
      "6250/6250 [==============================] - 38s 6ms/step\n",
      "6250/6250 [==============================] - 37s 6ms/step\n",
      "6250/6250 [==============================] - 36s 6ms/step\n",
      "6250/6250 [==============================] - 36s 6ms/step\n",
      "6250/6250 [==============================] - 36s 6ms/step\n",
      "6250/6250 [==============================] - 39s 6ms/step\n",
      "6250/6250 [==============================] - 36s 6ms/step\n",
      "6250/6250 [==============================] - 37s 6ms/step\n",
      "6250/6250 [==============================] - 36s 6ms/step\n",
      "6250/6250 [==============================] - 37s 6ms/step\n",
      "6250/6250 [==============================] - 36s 6ms/step\n",
      "6250/6250 [==============================] - 36s 6ms/step\n",
      "6250/6250 [==============================] - 36s 6ms/step\n",
      "6250/6250 [==============================] - 37s 6ms/step\n",
      "6250/6250 [==============================] - 36s 6ms/step\n",
      "6250/6250 [==============================] - 39s 6ms/step\n",
      "6250/6250 [==============================] - 36s 6ms/step\n",
      "6250/6250 [==============================] - 36s 6ms/step\n",
      "6250/6250 [==============================] - 37s 6ms/step\n",
      "6250/6250 [==============================] - 36s 6ms/step\n",
      "6250/6250 [==============================] - 36s 6ms/step\n",
      "6250/6250 [==============================] - 37s 6ms/step\n",
      "6250/6250 [==============================] - 36s 6ms/step\n",
      "6250/6250 [==============================] - 36s 6ms/step\n",
      "6250/6250 [==============================] - 36s 6ms/step\n",
      "6250/6250 [==============================] - 37s 6ms/step\n",
      "6250/6250 [==============================] - 36s 6ms/step\n",
      "6250/6250 [==============================] - 37s 6ms/step\n",
      "6250/6250 [==============================] - 37s 6ms/step\n",
      "6250/6250 [==============================] - 36s 6ms/step\n",
      "6250/6250 [==============================] - 37s 6ms/step\n",
      "6250/6250 [==============================] - 38s 6ms/step\n",
      "6250/6250 [==============================] - 36s 6ms/step\n",
      "6250/6250 [==============================] - 37s 6ms/step\n",
      "6250/6250 [==============================] - 37s 6ms/step\n",
      "6250/6250 [==============================] - 37s 6ms/step\n",
      "6250/6250 [==============================] - 36s 6ms/step\n",
      "6250/6250 [==============================] - 36s 6ms/step\n",
      "6250/6250 [==============================] - 37s 6ms/step\n",
      "6250/6250 [==============================] - 36s 6ms/step\n",
      "6250/6250 [==============================] - 37s 6ms/step\n",
      "6250/6250 [==============================] - 37s 6ms/step\n",
      "6250/6250 [==============================] - 36s 6ms/step\n",
      "6250/6250 [==============================] - 37s 6ms/step\n",
      "6250/6250 [==============================] - 36s 6ms/step\n",
      "6250/6250 [==============================] - 36s 6ms/step\n",
      "6250/6250 [==============================] - 37s 6ms/step\n",
      "6250/6250 [==============================] - 37s 6ms/step\n",
      "6250/6250 [==============================] - 38s 6ms/step\n",
      "6250/6250 [==============================] - 36s 6ms/step\n",
      "6250/6250 [==============================] - 37s 6ms/step\n",
      "6250/6250 [==============================] - 38s 6ms/step\n",
      "6250/6250 [==============================] - 36s 6ms/step\n",
      "6250/6250 [==============================] - 39s 6ms/step\n",
      "6250/6250 [==============================] - 37s 6ms/step\n",
      "6250/6250 [==============================] - 36s 6ms/step\n",
      "6250/6250 [==============================] - 37s 6ms/step\n",
      "6250/6250 [==============================] - 36s 6ms/step\n",
      "6250/6250 [==============================] - 36s 6ms/step\n",
      "6250/6250 [==============================] - 37s 6ms/step\n",
      "6250/6250 [==============================] - 37s 6ms/step\n",
      "6250/6250 [==============================] - 38s 6ms/step\n",
      "6250/6250 [==============================] - 37s 6ms/step\n",
      "6250/6250 [==============================] - 37s 6ms/step\n",
      "6250/6250 [==============================] - 39s 6ms/step\n",
      "6250/6250 [==============================] - 37s 6ms/step\n",
      "6250/6250 [==============================] - 38s 6ms/step\n",
      "6250/6250 [==============================] - 37s 6ms/step\n",
      "6250/6250 [==============================] - 37s 6ms/step\n",
      "6250/6250 [==============================] - 37s 6ms/step\n",
      "6250/6250 [==============================] - 38s 6ms/step\n",
      "6250/6250 [==============================] - 37s 6ms/step\n",
      "6250/6250 [==============================] - 37s 6ms/step\n",
      "6250/6250 [==============================] - 37s 6ms/step\n",
      "6250/6250 [==============================] - 36s 6ms/step\n",
      "6250/6250 [==============================] - 37s 6ms/step\n",
      "6250/6250 [==============================] - 37s 6ms/step\n"
     ]
    }
   ],
   "source": [
    "predictions = []\n",
    "\n",
    "ITER=100\n",
    "\n",
    "for _ in range(ITER):\n",
    "    predictions.append(model_uncrtn.predict(X_test, verbose=1))"
   ]
  },
  {
   "cell_type": "code",
   "execution_count": 13,
   "metadata": {},
   "outputs": [],
   "source": [
    "predict_array = np.array(predictions)"
   ]
  },
  {
   "cell_type": "code",
   "execution_count": 14,
   "metadata": {},
   "outputs": [],
   "source": [
    "# Creating a seperate array for each measurement\n",
    "mean_arr = predict_array.mean(axis=0).reshape(-1,4)\n",
    "std_arr = predict_array.std(axis=0).reshape(-1,4)\n",
    "pct_5_arr = np.quantile(predict_array, .05, axis=0).reshape(-1,4)\n",
    "pct_95_arr = np.quantile(predict_array, .95, axis=0).reshape(-1,4)"
   ]
  },
  {
   "cell_type": "code",
   "execution_count": 15,
   "metadata": {},
   "outputs": [],
   "source": [
    "# Selecting the class based on teh mean value with the highest probability\n",
    "final_pred_arr = mean_arr.argmax(axis=1)"
   ]
  },
  {
   "cell_type": "code",
   "execution_count": 16,
   "metadata": {},
   "outputs": [
    {
     "data": {
      "text/plain": [
       "(200000,)"
      ]
     },
     "execution_count": 16,
     "metadata": {},
     "output_type": "execute_result"
    }
   ],
   "source": [
    "final_pred_arr.shape"
   ]
  },
  {
   "cell_type": "markdown",
   "metadata": {},
   "source": [
    "# Creating Final DataFrame"
   ]
  },
  {
   "cell_type": "code",
   "execution_count": 17,
   "metadata": {},
   "outputs": [],
   "source": [
    "target_names = list(sdf.race.astype('category').cat.categories)"
   ]
  },
  {
   "cell_type": "code",
   "execution_count": 18,
   "metadata": {},
   "outputs": [],
   "source": [
    "predict_df = pd.DataFrame(columns = ['pred', 'category' , 'pred_5', 'pred_95', 'pred_se'])\n",
    "\n",
    "for i in range(len(final_pred_arr)):\n",
    "    pred = final_pred_arr[i]\n",
    "    category = target_names[pred]\n",
    "    pred_5 = pct_5_arr[i,pred]\n",
    "    pred_95 = pct_95_arr[i,pred]\n",
    "    pred_se = std_arr[i,pred]\n",
    "    \n",
    "    predict_df = predict_df.append({'pred':pred, \n",
    "                                    'category': category,\n",
    "                                    'pred_5':pred_5, \n",
    "                                    'pred_95': pred_95, \n",
    "                                    'pred_se':pred_se}, ignore_index=True)"
   ]
  },
  {
   "cell_type": "code",
   "execution_count": 19,
   "metadata": {},
   "outputs": [
    {
     "data": {
      "text/html": [
       "<div>\n",
       "<style scoped>\n",
       "    .dataframe tbody tr th:only-of-type {\n",
       "        vertical-align: middle;\n",
       "    }\n",
       "\n",
       "    .dataframe tbody tr th {\n",
       "        vertical-align: top;\n",
       "    }\n",
       "\n",
       "    .dataframe thead th {\n",
       "        text-align: right;\n",
       "    }\n",
       "</style>\n",
       "<table border=\"1\" class=\"dataframe\">\n",
       "  <thead>\n",
       "    <tr style=\"text-align: right;\">\n",
       "      <th></th>\n",
       "      <th>pred</th>\n",
       "      <th>category</th>\n",
       "      <th>pred_5</th>\n",
       "      <th>pred_95</th>\n",
       "      <th>pred_se</th>\n",
       "    </tr>\n",
       "  </thead>\n",
       "  <tbody>\n",
       "    <tr>\n",
       "      <th>0</th>\n",
       "      <td>2</td>\n",
       "      <td>nh_black</td>\n",
       "      <td>0.252426</td>\n",
       "      <td>0.758533</td>\n",
       "      <td>0.150588</td>\n",
       "    </tr>\n",
       "    <tr>\n",
       "      <th>1</th>\n",
       "      <td>2</td>\n",
       "      <td>nh_black</td>\n",
       "      <td>0.411323</td>\n",
       "      <td>0.746444</td>\n",
       "      <td>0.111052</td>\n",
       "    </tr>\n",
       "    <tr>\n",
       "      <th>2</th>\n",
       "      <td>3</td>\n",
       "      <td>nh_white</td>\n",
       "      <td>0.306239</td>\n",
       "      <td>0.753734</td>\n",
       "      <td>0.139984</td>\n",
       "    </tr>\n",
       "    <tr>\n",
       "      <th>3</th>\n",
       "      <td>3</td>\n",
       "      <td>nh_white</td>\n",
       "      <td>0.816190</td>\n",
       "      <td>0.932149</td>\n",
       "      <td>0.035095</td>\n",
       "    </tr>\n",
       "    <tr>\n",
       "      <th>4</th>\n",
       "      <td>3</td>\n",
       "      <td>nh_white</td>\n",
       "      <td>0.788544</td>\n",
       "      <td>0.923099</td>\n",
       "      <td>0.042389</td>\n",
       "    </tr>\n",
       "    <tr>\n",
       "      <th>...</th>\n",
       "      <td>...</td>\n",
       "      <td>...</td>\n",
       "      <td>...</td>\n",
       "      <td>...</td>\n",
       "      <td>...</td>\n",
       "    </tr>\n",
       "    <tr>\n",
       "      <th>199995</th>\n",
       "      <td>2</td>\n",
       "      <td>nh_black</td>\n",
       "      <td>0.469409</td>\n",
       "      <td>0.588866</td>\n",
       "      <td>0.039954</td>\n",
       "    </tr>\n",
       "    <tr>\n",
       "      <th>199996</th>\n",
       "      <td>3</td>\n",
       "      <td>nh_white</td>\n",
       "      <td>0.611072</td>\n",
       "      <td>0.788689</td>\n",
       "      <td>0.059398</td>\n",
       "    </tr>\n",
       "    <tr>\n",
       "      <th>199997</th>\n",
       "      <td>3</td>\n",
       "      <td>nh_white</td>\n",
       "      <td>0.836420</td>\n",
       "      <td>0.925540</td>\n",
       "      <td>0.026724</td>\n",
       "    </tr>\n",
       "    <tr>\n",
       "      <th>199998</th>\n",
       "      <td>3</td>\n",
       "      <td>nh_white</td>\n",
       "      <td>0.783891</td>\n",
       "      <td>0.925999</td>\n",
       "      <td>0.049733</td>\n",
       "    </tr>\n",
       "    <tr>\n",
       "      <th>199999</th>\n",
       "      <td>3</td>\n",
       "      <td>nh_white</td>\n",
       "      <td>0.500134</td>\n",
       "      <td>0.859656</td>\n",
       "      <td>0.116524</td>\n",
       "    </tr>\n",
       "  </tbody>\n",
       "</table>\n",
       "<p>200000 rows × 5 columns</p>\n",
       "</div>"
      ],
      "text/plain": [
       "       pred  category    pred_5   pred_95   pred_se\n",
       "0         2  nh_black  0.252426  0.758533  0.150588\n",
       "1         2  nh_black  0.411323  0.746444  0.111052\n",
       "2         3  nh_white  0.306239  0.753734  0.139984\n",
       "3         3  nh_white  0.816190  0.932149  0.035095\n",
       "4         3  nh_white  0.788544  0.923099  0.042389\n",
       "...     ...       ...       ...       ...       ...\n",
       "199995    2  nh_black  0.469409  0.588866  0.039954\n",
       "199996    3  nh_white  0.611072  0.788689  0.059398\n",
       "199997    3  nh_white  0.836420  0.925540  0.026724\n",
       "199998    3  nh_white  0.783891  0.925999  0.049733\n",
       "199999    3  nh_white  0.500134  0.859656  0.116524\n",
       "\n",
       "[200000 rows x 5 columns]"
      ]
     },
     "execution_count": 19,
     "metadata": {},
     "output_type": "execute_result"
    }
   ],
   "source": [
    "predict_df"
   ]
  },
  {
   "cell_type": "code",
   "execution_count": 20,
   "metadata": {},
   "outputs": [
    {
     "data": {
      "text/plain": [
       "nh_white    157723\n",
       "hispanc      33464\n",
       "nh_black      6982\n",
       "asian         1831\n",
       "Name: category, dtype: int64"
      ]
     },
     "execution_count": 20,
     "metadata": {},
     "output_type": "execute_result"
    }
   ],
   "source": [
    "predict_df['category'].value_counts()"
   ]
  },
  {
   "cell_type": "code",
   "execution_count": 21,
   "metadata": {},
   "outputs": [],
   "source": [
    "def predict_ci(name, num_iter=100, conf_int=0.9):\n",
    "    \n",
    "    NUM_CLASS = len(target_names)\n",
    "    low_quantile = 0.5 - (conf_int/2)\n",
    "    high_quantile = 0.5 + (conf_int/2)    \n",
    "    predictions = []\n",
    "    \n",
    "    np_name = np.array(find_ngrams(name, NGRAMS)).reshape(1,-1)\n",
    "    encoded_name = sequence.pad_sequences(np_name, maxlen=feature_len)\n",
    "    \n",
    "    for _ in range(num_iter):\n",
    "        predictions.append(model_uncrtn.predict(encoded_name))\n",
    "    \n",
    "    predict_array = np.array(predictions)\n",
    "    mean_arr = predict_array.mean(axis=0).reshape(-1,NUM_CLASS)\n",
    "    std_arr = predict_array.std(axis=0).reshape(-1,NUM_CLASS)\n",
    "    pct_low_arr = np.quantile(predict_array, low_quantile, axis=0).reshape(-1,NUM_CLASS)\n",
    "    pct_high_arr = np.quantile(predict_array, high_quantile, axis=0).reshape(-1,NUM_CLASS)\n",
    "    \n",
    "    class_pred = mean_arr.argmax(axis=1)\n",
    "    final_pred_class = target_names[class_pred[0]]\n",
    "    final_conf_val = mean_arr[0, class_pred[0]]\n",
    "    final_std_err = std_arr[0, class_pred[0]]\n",
    "    final_low_pct = pct_low_arr[0, class_pred[0]]\n",
    "    final_high_pct = pct_high_arr[0, class_pred[0]]\n",
    "    return final_pred_class, final_conf_val, final_std_err, [final_low_pct, final_high_pct]"
   ]
  },
  {
   "cell_type": "code",
   "execution_count": 36,
   "metadata": {},
   "outputs": [],
   "source": [
    "class_name, per_conf, std_err, conf_int = predict_ci(\"McMahon\")"
   ]
  },
  {
   "cell_type": "code",
   "execution_count": 37,
   "metadata": {},
   "outputs": [
    {
     "data": {
      "text/plain": [
       "('nh_white', 0.9403183, 0.022337977, [0.9027141243219375, 0.9677165985107422])"
      ]
     },
     "execution_count": 37,
     "metadata": {},
     "output_type": "execute_result"
    }
   ],
   "source": [
    "class_name, per_conf, std_err, conf_int"
   ]
  },
  {
   "cell_type": "code",
   "execution_count": null,
   "metadata": {},
   "outputs": [],
   "source": []
  }
 ],
 "metadata": {
  "kernelspec": {
   "display_name": "Python 3",
   "language": "python",
   "name": "python3"
  },
  "language_info": {
   "codemirror_mode": {
    "name": "ipython",
    "version": 3
   },
   "file_extension": ".py",
   "mimetype": "text/x-python",
   "name": "python",
   "nbconvert_exporter": "python",
   "pygments_lexer": "ipython3",
   "version": "3.8.5"
  },
  "toc": {
   "base_numbering": 1,
   "nav_menu": {},
   "number_sections": true,
   "sideBar": true,
   "skip_h1_title": false,
   "title_cell": "Table of Contents",
   "title_sidebar": "Contents",
   "toc_cell": false,
   "toc_position": {},
   "toc_section_display": true,
   "toc_window_display": false
  },
  "varInspector": {
   "cols": {
    "lenName": 16,
    "lenType": 16,
    "lenVar": 40
   },
   "kernels_config": {
    "python": {
     "delete_cmd_postfix": "",
     "delete_cmd_prefix": "del ",
     "library": "var_list.py",
     "varRefreshCmd": "print(var_dic_list())"
    },
    "r": {
     "delete_cmd_postfix": ") ",
     "delete_cmd_prefix": "rm(",
     "library": "var_list.r",
     "varRefreshCmd": "cat(var_dic_list()) "
    }
   },
   "types_to_exclude": [
    "module",
    "function",
    "builtin_function_or_method",
    "instance",
    "_Feature"
   ],
   "window_display": false
  }
 },
 "nbformat": 4,
 "nbformat_minor": 2
}
