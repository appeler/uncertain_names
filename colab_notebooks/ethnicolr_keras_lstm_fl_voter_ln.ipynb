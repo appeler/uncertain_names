{
 "cells": [
  {
   "cell_type": "code",
   "execution_count": 1,
   "metadata": {},
   "outputs": [
    {
     "name": "stdout",
     "output_type": "stream",
     "text": [
      "2.4.0\n",
      "2.4.0\n"
     ]
    }
   ],
   "source": [
    "from tensorflow import keras\n",
    "import tensorflow as tf\n",
    "print(keras.__version__)\n",
    "print(tf.__version__)"
   ]
  },
  {
   "cell_type": "code",
   "execution_count": 2,
   "metadata": {},
   "outputs": [
    {
     "data": {
      "text/html": [
       "<div>\n",
       "<style scoped>\n",
       "    .dataframe tbody tr th:only-of-type {\n",
       "        vertical-align: middle;\n",
       "    }\n",
       "\n",
       "    .dataframe tbody tr th {\n",
       "        vertical-align: top;\n",
       "    }\n",
       "\n",
       "    .dataframe thead th {\n",
       "        text-align: right;\n",
       "    }\n",
       "</style>\n",
       "<table border=\"1\" class=\"dataframe\">\n",
       "  <thead>\n",
       "    <tr style=\"text-align: right;\">\n",
       "      <th></th>\n",
       "      <th>name_first</th>\n",
       "      <th>name_last</th>\n",
       "      <th>race</th>\n",
       "    </tr>\n",
       "  </thead>\n",
       "  <tbody>\n",
       "    <tr>\n",
       "      <th>841323</th>\n",
       "      <td>Torres</td>\n",
       "      <td>Jose</td>\n",
       "      <td>hispanc</td>\n",
       "    </tr>\n",
       "    <tr>\n",
       "      <th>1408926</th>\n",
       "      <td>Da Silva</td>\n",
       "      <td>Amanda</td>\n",
       "      <td>nh_white</td>\n",
       "    </tr>\n",
       "    <tr>\n",
       "      <th>1733118</th>\n",
       "      <td>Mc Ghee</td>\n",
       "      <td>Sandra</td>\n",
       "      <td>nh_white</td>\n",
       "    </tr>\n",
       "    <tr>\n",
       "      <th>13104513</th>\n",
       "      <td>KARAM</td>\n",
       "      <td>Melinda</td>\n",
       "      <td>nh_white</td>\n",
       "    </tr>\n",
       "    <tr>\n",
       "      <th>9156114</th>\n",
       "      <td>BREWER</td>\n",
       "      <td>Laia</td>\n",
       "      <td>nh_black</td>\n",
       "    </tr>\n",
       "    <tr>\n",
       "      <th>...</th>\n",
       "      <td>...</td>\n",
       "      <td>...</td>\n",
       "      <td>...</td>\n",
       "    </tr>\n",
       "    <tr>\n",
       "      <th>3076722</th>\n",
       "      <td>Antunez Avila</td>\n",
       "      <td>Robert</td>\n",
       "      <td>hispanc</td>\n",
       "    </tr>\n",
       "    <tr>\n",
       "      <th>10023679</th>\n",
       "      <td>DAVIS</td>\n",
       "      <td>Wyatt</td>\n",
       "      <td>nh_white</td>\n",
       "    </tr>\n",
       "    <tr>\n",
       "      <th>5846252</th>\n",
       "      <td>Scott</td>\n",
       "      <td>Jacquelyn</td>\n",
       "      <td>nh_white</td>\n",
       "    </tr>\n",
       "    <tr>\n",
       "      <th>5959131</th>\n",
       "      <td>Parton</td>\n",
       "      <td>Douglas</td>\n",
       "      <td>nh_white</td>\n",
       "    </tr>\n",
       "    <tr>\n",
       "      <th>12031764</th>\n",
       "      <td>Knapp</td>\n",
       "      <td>Liza</td>\n",
       "      <td>nh_white</td>\n",
       "    </tr>\n",
       "  </tbody>\n",
       "</table>\n",
       "<p>1000000 rows × 3 columns</p>\n",
       "</div>"
      ],
      "text/plain": [
       "             name_first  name_last      race\n",
       "841323           Torres       Jose   hispanc\n",
       "1408926        Da Silva     Amanda  nh_white\n",
       "1733118         Mc Ghee     Sandra  nh_white\n",
       "13104513          KARAM    Melinda  nh_white\n",
       "9156114          BREWER       Laia  nh_black\n",
       "...                 ...        ...       ...\n",
       "3076722   Antunez Avila     Robert   hispanc\n",
       "10023679          DAVIS      Wyatt  nh_white\n",
       "5846252           Scott  Jacquelyn  nh_white\n",
       "5959131          Parton    Douglas  nh_white\n",
       "12031764          Knapp       Liza  nh_white\n",
       "\n",
       "[1000000 rows x 3 columns]"
      ]
     },
     "execution_count": 2,
     "metadata": {},
     "output_type": "execute_result"
    }
   ],
   "source": [
    "import numpy as np\n",
    "import pandas as pd\n",
    "from sklearn.feature_extraction.text import CountVectorizer\n",
    "from sklearn.model_selection import train_test_split\n",
    "from sklearn.metrics import classification_report,confusion_matrix\n",
    "\n",
    "NGRAMS = 2\n",
    "SAMPLE = 1000000\n",
    "EPOCHS = 15\n",
    "\n",
    "# Florida voter\n",
    "df = pd.read_csv('../dataverse_files/fl_reg_name_race.csv.gz')\n",
    "df.dropna(subset=['name_first', 'name_last'], inplace=True)\n",
    "sdf = df[df.race.isin(['multi_racial', 'native_indian', 'other', 'unknown']) == False].sample(SAMPLE, random_state=21)\n",
    "del df\n",
    "\n",
    "# Additional features\n",
    "sdf['name_last'] = sdf.name_last.str.title()\n",
    "\n",
    "sdf"
   ]
  },
  {
   "cell_type": "code",
   "execution_count": 3,
   "metadata": {
    "scrolled": true
   },
   "outputs": [
    {
     "data": {
      "text/html": [
       "<div>\n",
       "<style scoped>\n",
       "    .dataframe tbody tr th:only-of-type {\n",
       "        vertical-align: middle;\n",
       "    }\n",
       "\n",
       "    .dataframe tbody tr th {\n",
       "        vertical-align: top;\n",
       "    }\n",
       "\n",
       "    .dataframe thead th {\n",
       "        text-align: right;\n",
       "    }\n",
       "</style>\n",
       "<table border=\"1\" class=\"dataframe\">\n",
       "  <thead>\n",
       "    <tr style=\"text-align: right;\">\n",
       "      <th></th>\n",
       "      <th>name_last</th>\n",
       "    </tr>\n",
       "    <tr>\n",
       "      <th>race</th>\n",
       "      <th></th>\n",
       "    </tr>\n",
       "  </thead>\n",
       "  <tbody>\n",
       "    <tr>\n",
       "      <th>asian</th>\n",
       "      <td>19431</td>\n",
       "    </tr>\n",
       "    <tr>\n",
       "      <th>hispanc</th>\n",
       "      <td>166865</td>\n",
       "    </tr>\n",
       "    <tr>\n",
       "      <th>nh_black</th>\n",
       "      <td>142675</td>\n",
       "    </tr>\n",
       "    <tr>\n",
       "      <th>nh_white</th>\n",
       "      <td>671029</td>\n",
       "    </tr>\n",
       "  </tbody>\n",
       "</table>\n",
       "</div>"
      ],
      "text/plain": [
       "          name_last\n",
       "race               \n",
       "asian         19431\n",
       "hispanc      166865\n",
       "nh_black     142675\n",
       "nh_white     671029"
      ]
     },
     "execution_count": 3,
     "metadata": {},
     "output_type": "execute_result"
    }
   ],
   "source": [
    "rdf = sdf.groupby('race').agg({'name_last': 'count'})\n",
    "rdf.to_csv('../dataverse_files/fl_voter_reg/lstm/fl_ln_race.csv', columns=[])\n",
    "rdf"
   ]
  },
  {
   "cell_type": "code",
   "execution_count": 4,
   "metadata": {},
   "outputs": [
    {
     "data": {
      "text/html": [
       "<div>\n",
       "<style scoped>\n",
       "    .dataframe tbody tr th:only-of-type {\n",
       "        vertical-align: middle;\n",
       "    }\n",
       "\n",
       "    .dataframe tbody tr th {\n",
       "        vertical-align: top;\n",
       "    }\n",
       "\n",
       "    .dataframe thead th {\n",
       "        text-align: right;\n",
       "    }\n",
       "</style>\n",
       "<table border=\"1\" class=\"dataframe\">\n",
       "  <thead>\n",
       "    <tr style=\"text-align: right;\">\n",
       "      <th></th>\n",
       "      <th>name_last</th>\n",
       "    </tr>\n",
       "    <tr>\n",
       "      <th>race</th>\n",
       "      <th></th>\n",
       "    </tr>\n",
       "  </thead>\n",
       "  <tbody>\n",
       "    <tr>\n",
       "      <th>asian</th>\n",
       "      <td>8933</td>\n",
       "    </tr>\n",
       "    <tr>\n",
       "      <th>hispanc</th>\n",
       "      <td>17512</td>\n",
       "    </tr>\n",
       "    <tr>\n",
       "      <th>nh_black</th>\n",
       "      <td>33422</td>\n",
       "    </tr>\n",
       "    <tr>\n",
       "      <th>nh_white</th>\n",
       "      <td>25575</td>\n",
       "    </tr>\n",
       "  </tbody>\n",
       "</table>\n",
       "</div>"
      ],
      "text/plain": [
       "          name_last\n",
       "race               \n",
       "asian          8933\n",
       "hispanc       17512\n",
       "nh_black      33422\n",
       "nh_white      25575"
      ]
     },
     "execution_count": 4,
     "metadata": {},
     "output_type": "execute_result"
    }
   ],
   "source": [
    "sdf.groupby('race').agg({'name_last': 'nunique'})"
   ]
  },
  {
   "cell_type": "markdown",
   "metadata": {},
   "source": [
    "## Preprocessing the input data"
   ]
  },
  {
   "cell_type": "code",
   "execution_count": 5,
   "metadata": {},
   "outputs": [
    {
     "name": "stdout",
     "output_type": "stream",
     "text": [
      "num_words = 1103\n",
      "Max feature len = 25, Avg. feature len = 5\n"
     ]
    }
   ],
   "source": [
    "# last name only\n",
    "sdf['name_last_name_first'] = sdf['name_last']\n",
    "\n",
    "# build n-gram list\n",
    "vect = CountVectorizer(analyzer='char', max_df=0.3, min_df=3, ngram_range=(NGRAMS, NGRAMS), lowercase=False) \n",
    "a = vect.fit_transform(sdf.name_last_name_first)\n",
    "vocab = vect.vocabulary_\n",
    "\n",
    "# sort n-gram by freq (highest -> lowest)\n",
    "words = []\n",
    "for b in vocab:\n",
    "    c = vocab[b]\n",
    "    #print(b, c, a[:, c].sum())\n",
    "    words.append((a[:, c].sum(), b))\n",
    "    #break\n",
    "words = sorted(words, reverse=True)\n",
    "words_list = [w[1] for w in words]\n",
    "num_words = len(words_list)\n",
    "print(\"num_words = %d\" % num_words)\n",
    "\n",
    "\n",
    "def find_ngrams(text, n):\n",
    "    a = zip(*[text[i:] for i in range(n)])\n",
    "    wi = []\n",
    "    for i in a:\n",
    "        w = ''.join(i)\n",
    "        try:\n",
    "            idx = words_list.index(w)\n",
    "        except:\n",
    "            idx = 0\n",
    "        wi.append(idx)\n",
    "    return wi\n",
    "\n",
    "# build X from index of n-gram sequence\n",
    "X = np.array(sdf.name_last_name_first.apply(lambda c: find_ngrams(c, NGRAMS)))\n",
    "\n",
    "# check max/avg feature\n",
    "X_len = []\n",
    "for x in X:\n",
    "    X_len.append(len(x))\n",
    "\n",
    "max_feature_len = max(X_len)\n",
    "avg_feature_len = int(np.mean(X_len))\n",
    "\n",
    "print(\"Max feature len = %d, Avg. feature len = %d\" % (max_feature_len, avg_feature_len))\n",
    "y = np.array(sdf.race.astype('category').cat.codes)\n",
    "\n",
    "# Split train and test dataset\n",
    "X_train,  X_test, y_train, y_test = train_test_split(X, y, test_size=0.2, random_state=21, stratify=y)"
   ]
  },
  {
   "cell_type": "markdown",
   "metadata": {},
   "source": [
    "## Train a LSTM model\n",
    "\n",
    "ref: http://machinelearningmastery.com/sequence-classification-lstm-recurrent-neural-networks-python-keras/"
   ]
  },
  {
   "cell_type": "code",
   "execution_count": 6,
   "metadata": {},
   "outputs": [
    {
     "name": "stdout",
     "output_type": "stream",
     "text": [
      "800000 train sequences\n",
      "200000 test sequences\n",
      "Pad sequences (samples x time)\n",
      "X_train shape: (800000, 20)\n",
      "X_test shape: (200000, 20)\n",
      "4 classes\n",
      "Convert class vector to binary class matrix (for use with categorical_crossentropy)\n",
      "y_train shape: (800000, 4)\n",
      "y_test shape: (200000, 4)\n"
     ]
    }
   ],
   "source": [
    "'''The dataset is actually too small for LSTM to be of any advantage\n",
    "compared to simpler, much faster methods such as TF-IDF + LogReg.\n",
    "Notes:\n",
    "\n",
    "- RNNs are tricky. Choice of batch size is important,\n",
    "choice of loss and optimizer is critical, etc.\n",
    "Some configurations won't converge.\n",
    "\n",
    "- LSTM loss decrease patterns during training can be quite different\n",
    "from what you see with CNNs/MLPs/etc.\n",
    "'''\n",
    "from tensorflow.keras.preprocessing import sequence\n",
    "from tensorflow.keras.models import Sequential\n",
    "from tensorflow.keras.layers import Dense, Embedding, Dropout, Activation\n",
    "from tensorflow.keras.layers import LSTM\n",
    "from tensorflow.keras.layers import Conv1D\n",
    "from tensorflow.keras.layers import MaxPooling1D\n",
    "from tensorflow.keras.models import load_model\n",
    "\n",
    "max_features = num_words # 20000\n",
    "feature_len = 20 # avg_feature_len # cut texts after this number of words (among top max_features most common words)\n",
    "batch_size = 32\n",
    "\n",
    "print(len(X_train), 'train sequences')\n",
    "print(len(X_test), 'test sequences')\n",
    "\n",
    "print('Pad sequences (samples x time)')\n",
    "X_train = sequence.pad_sequences(X_train, maxlen=feature_len)\n",
    "X_test = sequence.pad_sequences(X_test, maxlen=feature_len)\n",
    "print('X_train shape:', X_train.shape)\n",
    "print('X_test shape:', X_test.shape)\n",
    "\n",
    "num_classes = np.max(y_train) + 1\n",
    "print(num_classes, 'classes')\n",
    "\n",
    "print('Convert class vector to binary class matrix '\n",
    "      '(for use with categorical_crossentropy)')\n",
    "y_train = tf.keras.utils.to_categorical(y_train, num_classes)\n",
    "y_test = tf.keras.utils.to_categorical(y_test, num_classes)\n",
    "print('y_train shape:', y_train.shape)\n",
    "print('y_test shape:', y_test.shape)"
   ]
  },
  {
   "cell_type": "code",
   "execution_count": 7,
   "metadata": {},
   "outputs": [
    {
     "name": "stdout",
     "output_type": "stream",
     "text": [
      "Build model...\n",
      "Model: \"sequential\"\n",
      "_________________________________________________________________\n",
      "Layer (type)                 Output Shape              Param #   \n",
      "=================================================================\n",
      "embedding (Embedding)        (None, 20, 32)            35296     \n",
      "_________________________________________________________________\n",
      "lstm (LSTM)                  (None, 128)               82432     \n",
      "_________________________________________________________________\n",
      "dense (Dense)                (None, 4)                 516       \n",
      "=================================================================\n",
      "Total params: 118,244\n",
      "Trainable params: 118,244\n",
      "Non-trainable params: 0\n",
      "_________________________________________________________________\n",
      "None\n"
     ]
    }
   ],
   "source": [
    "print('Build model...')\n",
    "\n",
    "model = Sequential()\n",
    "model.add(Embedding(num_words, 32, input_length=feature_len))\n",
    "model.add(LSTM(128, dropout=0.2, recurrent_dropout=0.2))\n",
    "model.add(Dense(num_classes, activation='softmax'))\n",
    "\n",
    "# try using different optimizers and different optimizer configs\n",
    "model.compile(loss='categorical_crossentropy',\n",
    "              optimizer='adam',\n",
    "              metrics=['accuracy'])\n",
    "\n",
    "print(model.summary())"
   ]
  },
  {
   "cell_type": "code",
   "execution_count": 8,
   "metadata": {},
   "outputs": [
    {
     "name": "stdout",
     "output_type": "stream",
     "text": [
      "Train...\n",
      "Epoch 1/15\n",
      "22500/22500 [==============================] - 413s 18ms/step - loss: 0.7442 - accuracy: 0.7376 - val_loss: 0.6717 - val_accuracy: 0.7645\n",
      "Epoch 2/15\n",
      "22500/22500 [==============================] - 401s 18ms/step - loss: 0.6689 - accuracy: 0.7662 - val_loss: 0.6499 - val_accuracy: 0.7744\n",
      "Epoch 3/15\n",
      "22500/22500 [==============================] - 392s 17ms/step - loss: 0.6516 - accuracy: 0.7735 - val_loss: 0.6390 - val_accuracy: 0.7796\n",
      "Epoch 4/15\n",
      "22500/22500 [==============================] - 391s 17ms/step - loss: 0.6408 - accuracy: 0.7777 - val_loss: 0.6338 - val_accuracy: 0.7826\n",
      "Epoch 5/15\n",
      "22500/22500 [==============================] - 391s 17ms/step - loss: 0.6364 - accuracy: 0.7798 - val_loss: 0.6339 - val_accuracy: 0.7820\n",
      "Epoch 6/15\n",
      "22500/22500 [==============================] - 391s 17ms/step - loss: 0.6318 - accuracy: 0.7816 - val_loss: 0.6306 - val_accuracy: 0.7832\n",
      "Epoch 7/15\n",
      "22500/22500 [==============================] - 390s 17ms/step - loss: 0.6291 - accuracy: 0.7827 - val_loss: 0.6313 - val_accuracy: 0.7833\n",
      "Epoch 8/15\n",
      "22500/22500 [==============================] - 393s 17ms/step - loss: 0.6279 - accuracy: 0.7829 - val_loss: 0.6282 - val_accuracy: 0.7843\n",
      "Epoch 9/15\n",
      "22500/22500 [==============================] - 392s 17ms/step - loss: 0.6266 - accuracy: 0.7835 - val_loss: 0.6272 - val_accuracy: 0.7848\n",
      "Epoch 10/15\n",
      "22500/22500 [==============================] - 390s 17ms/step - loss: 0.6280 - accuracy: 0.7823 - val_loss: 0.6272 - val_accuracy: 0.7853\n",
      "Epoch 11/15\n",
      "22500/22500 [==============================] - 392s 17ms/step - loss: 0.6236 - accuracy: 0.7848 - val_loss: 0.6258 - val_accuracy: 0.7856\n",
      "Epoch 12/15\n",
      "22500/22500 [==============================] - 391s 17ms/step - loss: 0.6259 - accuracy: 0.7840 - val_loss: 0.6247 - val_accuracy: 0.7856\n",
      "Epoch 13/15\n",
      "22500/22500 [==============================] - 390s 17ms/step - loss: 0.6250 - accuracy: 0.7844 - val_loss: 0.6244 - val_accuracy: 0.7860\n",
      "Epoch 14/15\n",
      "22500/22500 [==============================] - 392s 17ms/step - loss: 0.6245 - accuracy: 0.7849 - val_loss: 0.6234 - val_accuracy: 0.7867\n",
      "Epoch 15/15\n",
      "22500/22500 [==============================] - 391s 17ms/step - loss: 0.6249 - accuracy: 0.7846 - val_loss: 0.6248 - val_accuracy: 0.7875\n",
      "6250/6250 [==============================] - 24s 4ms/step - loss: 0.6255 - accuracy: 0.7857\n",
      "Test score: 0.6254821419715881\n",
      "Test accuracy: 0.7856850028038025\n"
     ]
    }
   ],
   "source": [
    "print('Train...')\n",
    "model.fit(X_train, y_train, batch_size=batch_size, epochs=EPOCHS,\n",
    "          validation_split=0.1, verbose=1)\n",
    "score, acc = model.evaluate(X_test, y_test,\n",
    "                            batch_size=batch_size, verbose=1)\n",
    "print('Test score:', score)\n",
    "print('Test accuracy:', acc)"
   ]
  },
  {
   "cell_type": "code",
   "execution_count": 9,
   "metadata": {},
   "outputs": [
    {
     "name": "stdout",
     "output_type": "stream",
     "text": [
      "Test score: 0.6254821419715881\n",
      "Test accuracy: 0.7856850028038025\n"
     ]
    }
   ],
   "source": [
    "print('Test score:', score)\n",
    "print('Test accuracy:', acc)"
   ]
  },
  {
   "cell_type": "markdown",
   "metadata": {},
   "source": [
    "## Confusion Matrix"
   ]
  },
  {
   "cell_type": "code",
   "execution_count": 10,
   "metadata": {},
   "outputs": [
    {
     "name": "stdout",
     "output_type": "stream",
     "text": [
      "6250/6250 - 21s\n",
      "              precision    recall  f1-score   support\n",
      "\n",
      "       asian       0.70      0.31      0.42      3886\n",
      "     hispanc       0.75      0.62      0.68     33373\n",
      "    nh_black       0.67      0.32      0.43     28535\n",
      "    nh_white       0.80      0.94      0.87    134206\n",
      "\n",
      "    accuracy                           0.79    200000\n",
      "   macro avg       0.73      0.55      0.60    200000\n",
      "weighted avg       0.77      0.79      0.76    200000\n",
      "\n",
      "[[  1188    471    361   1866]\n",
      " [    82  20775    955  11561]\n",
      " [   185   1760   9152  17438]\n",
      " [   251   4698   3235 126022]]\n"
     ]
    }
   ],
   "source": [
    "p = model.predict(X_test, verbose=2) # to predict probability\n",
    "y_pred = np.argmax(p, axis=-1)\n",
    "target_names = list(sdf.race.astype('category').cat.categories)\n",
    "print(classification_report(np.argmax(y_test, axis=1), y_pred, target_names=target_names))\n",
    "print(confusion_matrix(np.argmax(y_test, axis=1), y_pred))"
   ]
  },
  {
   "cell_type": "markdown",
   "metadata": {},
   "source": [
    "## Save model"
   ]
  },
  {
   "cell_type": "code",
   "execution_count": 11,
   "metadata": {},
   "outputs": [],
   "source": [
    "model.save('../dataverse_files/fl_voter_reg/lstm/fl_all_ln_lstm.h5')"
   ]
  },
  {
   "cell_type": "code",
   "execution_count": 12,
   "metadata": {},
   "outputs": [],
   "source": [
    "words_df = pd.DataFrame(words_list, columns=['vocab'])\n",
    "words_df.to_csv('../dataverse_files/fl_voter_reg/lstm/fl_all_ln_vocab.csv', index=False, encoding='utf-8')"
   ]
  },
  {
   "cell_type": "markdown",
   "metadata": {},
   "source": [
    "# Uncertainity Model"
   ]
  },
  {
   "cell_type": "code",
   "execution_count": 13,
   "metadata": {},
   "outputs": [
    {
     "name": "stdout",
     "output_type": "stream",
     "text": [
      "Build uncertainty model...\n",
      "Model: \"model\"\n",
      "_________________________________________________________________\n",
      "Layer (type)                 Output Shape              Param #   \n",
      "=================================================================\n",
      "input_1 (InputLayer)         [(None, 20)]              0         \n",
      "_________________________________________________________________\n",
      "embedding_1 (Embedding)      (None, 20, 32)            35296     \n",
      "_________________________________________________________________\n",
      "lstm_1 (LSTM)                (None, 128)               82432     \n",
      "_________________________________________________________________\n",
      "dropout (Dropout)            (None, 128)               0         \n",
      "_________________________________________________________________\n",
      "dense_1 (Dense)              (None, 4)                 516       \n",
      "=================================================================\n",
      "Total params: 118,244\n",
      "Trainable params: 118,244\n",
      "Non-trainable params: 0\n",
      "_________________________________________________________________\n",
      "None\n"
     ]
    }
   ],
   "source": [
    "print('Build uncertainty model...')\n",
    "\n",
    "#model_uncrtn = Sequential()\n",
    "input_ = keras.layers.Input(shape=(feature_len))\n",
    "layer_ = Embedding(num_words, 32) (input_)\n",
    "layer_ = LSTM(128, dropout=0.2, recurrent_dropout=0.2)(layer_)\n",
    "layer_ = Dropout(0.25)(layer_, training=True)\n",
    "output = Dense(num_classes, activation='softmax') (layer_)\n",
    "\n",
    "model_uncrtn = keras.models.Model(inputs=input_, outputs=output)\n",
    "\n",
    "# try using different optimizers and different optimizer configs\n",
    "model_uncrtn.compile(loss='categorical_crossentropy',\n",
    "              optimizer='adam',\n",
    "              metrics=['accuracy'])\n",
    "\n",
    "print(model_uncrtn.summary())"
   ]
  },
  {
   "cell_type": "code",
   "execution_count": 14,
   "metadata": {},
   "outputs": [
    {
     "name": "stdout",
     "output_type": "stream",
     "text": [
      "Train...\n",
      "Epoch 1/15\n",
      "22500/22500 [==============================] - 397s 18ms/step - loss: 0.7511 - accuracy: 0.7345 - val_loss: 0.6844 - val_accuracy: 0.7626\n",
      "Epoch 2/15\n",
      "22500/22500 [==============================] - 391s 17ms/step - loss: 0.6783 - accuracy: 0.7644 - val_loss: 0.6601 - val_accuracy: 0.7710\n",
      "Epoch 3/15\n",
      "22500/22500 [==============================] - 393s 17ms/step - loss: 0.6616 - accuracy: 0.7704 - val_loss: 0.6505 - val_accuracy: 0.7753\n",
      "Epoch 4/15\n",
      "22500/22500 [==============================] - 391s 17ms/step - loss: 0.6525 - accuracy: 0.7739 - val_loss: 0.6443 - val_accuracy: 0.7778\n",
      "Epoch 5/15\n",
      "22500/22500 [==============================] - 391s 17ms/step - loss: 0.6472 - accuracy: 0.7764 - val_loss: 0.6414 - val_accuracy: 0.7798\n",
      "Epoch 6/15\n",
      "22500/22500 [==============================] - 392s 17ms/step - loss: 0.6423 - accuracy: 0.7773 - val_loss: 0.6380 - val_accuracy: 0.7812\n",
      "Epoch 7/15\n",
      "22500/22500 [==============================] - 391s 17ms/step - loss: 0.6396 - accuracy: 0.7795 - val_loss: 0.6382 - val_accuracy: 0.7807\n",
      "Epoch 8/15\n",
      "22500/22500 [==============================] - 391s 17ms/step - loss: 0.6400 - accuracy: 0.7791 - val_loss: 0.6385 - val_accuracy: 0.7813\n",
      "Epoch 9/15\n",
      "22500/22500 [==============================] - 392s 17ms/step - loss: 0.6366 - accuracy: 0.7804 - val_loss: 0.6368 - val_accuracy: 0.7804\n",
      "Epoch 10/15\n",
      "22500/22500 [==============================] - 391s 17ms/step - loss: 0.6344 - accuracy: 0.7811 - val_loss: 0.6338 - val_accuracy: 0.7820\n",
      "Epoch 11/15\n",
      "22500/22500 [==============================] - 392s 17ms/step - loss: 0.6358 - accuracy: 0.7805 - val_loss: 0.6356 - val_accuracy: 0.7817\n",
      "Epoch 12/15\n",
      "22500/22500 [==============================] - 392s 17ms/step - loss: 0.6346 - accuracy: 0.7813 - val_loss: 0.6347 - val_accuracy: 0.7833\n",
      "Epoch 13/15\n",
      "22500/22500 [==============================] - 391s 17ms/step - loss: 0.6350 - accuracy: 0.7816 - val_loss: 0.6341 - val_accuracy: 0.7831\n",
      "Epoch 14/15\n",
      "22500/22500 [==============================] - 392s 17ms/step - loss: 0.6335 - accuracy: 0.7824 - val_loss: 0.6325 - val_accuracy: 0.7832\n",
      "Epoch 15/15\n",
      "22500/22500 [==============================] - 391s 17ms/step - loss: 0.6336 - accuracy: 0.7819 - val_loss: 0.6330 - val_accuracy: 0.7838\n",
      "6250/6250 [==============================] - 25s 4ms/step - loss: 0.6330 - accuracy: 0.7820\n",
      "Test score: 0.6330482959747314\n",
      "Test accuracy: 0.7819700241088867\n"
     ]
    }
   ],
   "source": [
    "print('Train...')\n",
    "model_uncrtn.fit(X_train, y_train, batch_size=batch_size, epochs=EPOCHS,\n",
    "          validation_split=0.1, verbose=1)\n",
    "score, acc = model_uncrtn.evaluate(X_test, y_test,\n",
    "                            batch_size=batch_size, verbose=1)\n",
    "print('Test score:', score)\n",
    "print('Test accuracy:', acc)"
   ]
  },
  {
   "cell_type": "code",
   "execution_count": 15,
   "metadata": {},
   "outputs": [
    {
     "name": "stdout",
     "output_type": "stream",
     "text": [
      "6250/6250 - 21s\n",
      "6250/6250 - 21s\n",
      "6250/6250 - 21s\n",
      "6250/6250 - 21s\n",
      "6250/6250 - 21s\n",
      "6250/6250 - 21s\n",
      "6250/6250 - 21s\n",
      "6250/6250 - 21s\n",
      "6250/6250 - 21s\n",
      "6250/6250 - 21s\n",
      "6250/6250 - 21s\n",
      "6250/6250 - 21s\n",
      "6250/6250 - 21s\n",
      "6250/6250 - 21s\n",
      "6250/6250 - 21s\n",
      "6250/6250 - 21s\n",
      "6250/6250 - 21s\n",
      "6250/6250 - 21s\n",
      "6250/6250 - 21s\n",
      "6250/6250 - 21s\n",
      "6250/6250 - 21s\n",
      "6250/6250 - 21s\n",
      "6250/6250 - 21s\n",
      "6250/6250 - 21s\n",
      "6250/6250 - 21s\n",
      "6250/6250 - 21s\n",
      "6250/6250 - 21s\n",
      "6250/6250 - 21s\n",
      "6250/6250 - 21s\n",
      "6250/6250 - 21s\n",
      "6250/6250 - 21s\n",
      "6250/6250 - 21s\n",
      "6250/6250 - 21s\n",
      "6250/6250 - 21s\n",
      "6250/6250 - 21s\n",
      "6250/6250 - 21s\n",
      "6250/6250 - 21s\n",
      "6250/6250 - 21s\n",
      "6250/6250 - 21s\n",
      "6250/6250 - 21s\n",
      "6250/6250 - 21s\n",
      "6250/6250 - 21s\n",
      "6250/6250 - 21s\n",
      "6250/6250 - 21s\n",
      "6250/6250 - 21s\n",
      "6250/6250 - 21s\n",
      "6250/6250 - 21s\n",
      "6250/6250 - 21s\n",
      "6250/6250 - 21s\n",
      "6250/6250 - 21s\n",
      "6250/6250 - 21s\n",
      "6250/6250 - 22s\n",
      "6250/6250 - 22s\n",
      "6250/6250 - 21s\n",
      "6250/6250 - 21s\n",
      "6250/6250 - 21s\n",
      "6250/6250 - 21s\n",
      "6250/6250 - 21s\n",
      "6250/6250 - 21s\n",
      "6250/6250 - 21s\n",
      "6250/6250 - 21s\n",
      "6250/6250 - 21s\n",
      "6250/6250 - 21s\n",
      "6250/6250 - 21s\n",
      "6250/6250 - 21s\n",
      "6250/6250 - 21s\n",
      "6250/6250 - 21s\n",
      "6250/6250 - 21s\n",
      "6250/6250 - 21s\n",
      "6250/6250 - 21s\n",
      "6250/6250 - 21s\n",
      "6250/6250 - 21s\n",
      "6250/6250 - 21s\n",
      "6250/6250 - 21s\n",
      "6250/6250 - 21s\n",
      "6250/6250 - 21s\n",
      "6250/6250 - 21s\n",
      "6250/6250 - 21s\n",
      "6250/6250 - 21s\n",
      "6250/6250 - 22s\n",
      "6250/6250 - 21s\n",
      "6250/6250 - 21s\n",
      "6250/6250 - 21s\n",
      "6250/6250 - 21s\n",
      "6250/6250 - 21s\n",
      "6250/6250 - 21s\n",
      "6250/6250 - 21s\n",
      "6250/6250 - 21s\n",
      "6250/6250 - 21s\n",
      "6250/6250 - 21s\n",
      "6250/6250 - 21s\n",
      "6250/6250 - 21s\n",
      "6250/6250 - 21s\n",
      "6250/6250 - 21s\n",
      "6250/6250 - 21s\n",
      "6250/6250 - 21s\n",
      "6250/6250 - 21s\n",
      "6250/6250 - 21s\n",
      "6250/6250 - 21s\n",
      "6250/6250 - 21s\n"
     ]
    }
   ],
   "source": [
    "predictions = []\n",
    "\n",
    "ITER=100\n",
    "\n",
    "for _ in range(ITER):\n",
    "    predictions.append(model_uncrtn.predict(X_test, verbose=1))"
   ]
  },
  {
   "cell_type": "code",
   "execution_count": 16,
   "metadata": {},
   "outputs": [],
   "source": [
    "predict_array = np.array(predictions)"
   ]
  },
  {
   "cell_type": "code",
   "execution_count": 33,
   "metadata": {},
   "outputs": [],
   "source": [
    "# Creating a seperate array for each measurement\n",
    "mean_arr = predict_array.mean(axis=0).reshape(-1,4)\n",
    "std_arr = predict_array.std(axis=0).reshape(-1,4)\n",
    "pct_5_arr = np.quantile(predict_array, .05, axis=0).reshape(-1,4)\n",
    "pct_95_arr = np.quantile(predict_array, .95, axis=0).reshape(-1,4)"
   ]
  },
  {
   "cell_type": "code",
   "execution_count": 34,
   "metadata": {},
   "outputs": [],
   "source": [
    "# Selecting the class based on teh mean value with the highest probability\n",
    "final_pred_arr = mean_arr.argmax(axis=1)"
   ]
  },
  {
   "cell_type": "code",
   "execution_count": 35,
   "metadata": {},
   "outputs": [
    {
     "data": {
      "text/plain": [
       "(200000,)"
      ]
     },
     "execution_count": 35,
     "metadata": {},
     "output_type": "execute_result"
    }
   ],
   "source": [
    "final_pred_arr.shape"
   ]
  },
  {
   "cell_type": "markdown",
   "metadata": {},
   "source": [
    "# Creating Final DataFrame"
   ]
  },
  {
   "cell_type": "code",
   "execution_count": 42,
   "metadata": {},
   "outputs": [],
   "source": [
    "predict_df = pd.DataFrame(columns = ['pred', 'pred_5', 'pred_95', 'pred_se'])\n",
    "\n",
    "for i in range(len(final_pred_arr)):\n",
    "    pred = final_pred_arr[i]\n",
    "    pred_5 = pct_5_arr[i,pred]\n",
    "    pred_95 = pct_95_arr[i,pred]\n",
    "    pred_se = std_arr[i,pred]\n",
    "    \n",
    "    predict_df = predict_df.append({'pred':pred, \n",
    "                                    'pred_5':pred_5, \n",
    "                                    'pred_95': pred_95, \n",
    "                                    'pred_se':pred_se}, ignore_index=True)"
   ]
  },
  {
   "cell_type": "code",
   "execution_count": 43,
   "metadata": {},
   "outputs": [
    {
     "data": {
      "text/html": [
       "<div>\n",
       "<style scoped>\n",
       "    .dataframe tbody tr th:only-of-type {\n",
       "        vertical-align: middle;\n",
       "    }\n",
       "\n",
       "    .dataframe tbody tr th {\n",
       "        vertical-align: top;\n",
       "    }\n",
       "\n",
       "    .dataframe thead th {\n",
       "        text-align: right;\n",
       "    }\n",
       "</style>\n",
       "<table border=\"1\" class=\"dataframe\">\n",
       "  <thead>\n",
       "    <tr style=\"text-align: right;\">\n",
       "      <th></th>\n",
       "      <th>pred</th>\n",
       "      <th>pred_5</th>\n",
       "      <th>pred_95</th>\n",
       "      <th>pred_se</th>\n",
       "    </tr>\n",
       "  </thead>\n",
       "  <tbody>\n",
       "    <tr>\n",
       "      <th>0</th>\n",
       "      <td>3.0</td>\n",
       "      <td>0.711988</td>\n",
       "      <td>0.805355</td>\n",
       "      <td>0.029818</td>\n",
       "    </tr>\n",
       "    <tr>\n",
       "      <th>1</th>\n",
       "      <td>3.0</td>\n",
       "      <td>0.786448</td>\n",
       "      <td>0.867701</td>\n",
       "      <td>0.023872</td>\n",
       "    </tr>\n",
       "    <tr>\n",
       "      <th>2</th>\n",
       "      <td>1.0</td>\n",
       "      <td>0.286286</td>\n",
       "      <td>0.520776</td>\n",
       "      <td>0.069999</td>\n",
       "    </tr>\n",
       "    <tr>\n",
       "      <th>3</th>\n",
       "      <td>3.0</td>\n",
       "      <td>0.791124</td>\n",
       "      <td>0.854948</td>\n",
       "      <td>0.018592</td>\n",
       "    </tr>\n",
       "    <tr>\n",
       "      <th>4</th>\n",
       "      <td>3.0</td>\n",
       "      <td>0.760636</td>\n",
       "      <td>0.848683</td>\n",
       "      <td>0.026504</td>\n",
       "    </tr>\n",
       "    <tr>\n",
       "      <th>...</th>\n",
       "      <td>...</td>\n",
       "      <td>...</td>\n",
       "      <td>...</td>\n",
       "      <td>...</td>\n",
       "    </tr>\n",
       "    <tr>\n",
       "      <th>199995</th>\n",
       "      <td>3.0</td>\n",
       "      <td>0.699482</td>\n",
       "      <td>0.766014</td>\n",
       "      <td>0.019765</td>\n",
       "    </tr>\n",
       "    <tr>\n",
       "      <th>199996</th>\n",
       "      <td>2.0</td>\n",
       "      <td>0.888805</td>\n",
       "      <td>0.978085</td>\n",
       "      <td>0.026221</td>\n",
       "    </tr>\n",
       "    <tr>\n",
       "      <th>199997</th>\n",
       "      <td>3.0</td>\n",
       "      <td>0.841669</td>\n",
       "      <td>0.907399</td>\n",
       "      <td>0.020203</td>\n",
       "    </tr>\n",
       "    <tr>\n",
       "      <th>199998</th>\n",
       "      <td>3.0</td>\n",
       "      <td>0.865521</td>\n",
       "      <td>0.922698</td>\n",
       "      <td>0.018780</td>\n",
       "    </tr>\n",
       "    <tr>\n",
       "      <th>199999</th>\n",
       "      <td>3.0</td>\n",
       "      <td>0.765130</td>\n",
       "      <td>0.815173</td>\n",
       "      <td>0.016540</td>\n",
       "    </tr>\n",
       "  </tbody>\n",
       "</table>\n",
       "<p>200000 rows × 4 columns</p>\n",
       "</div>"
      ],
      "text/plain": [
       "        pred    pred_5   pred_95   pred_se\n",
       "0        3.0  0.711988  0.805355  0.029818\n",
       "1        3.0  0.786448  0.867701  0.023872\n",
       "2        1.0  0.286286  0.520776  0.069999\n",
       "3        3.0  0.791124  0.854948  0.018592\n",
       "4        3.0  0.760636  0.848683  0.026504\n",
       "...      ...       ...       ...       ...\n",
       "199995   3.0  0.699482  0.766014  0.019765\n",
       "199996   2.0  0.888805  0.978085  0.026221\n",
       "199997   3.0  0.841669  0.907399  0.020203\n",
       "199998   3.0  0.865521  0.922698  0.018780\n",
       "199999   3.0  0.765130  0.815173  0.016540\n",
       "\n",
       "[200000 rows x 4 columns]"
      ]
     },
     "execution_count": 43,
     "metadata": {},
     "output_type": "execute_result"
    }
   ],
   "source": [
    "predict_df"
   ]
  }
 ],
 "metadata": {
  "kernelspec": {
   "display_name": "Python 3",
   "language": "python",
   "name": "python3"
  },
  "language_info": {
   "codemirror_mode": {
    "name": "ipython",
    "version": 3
   },
   "file_extension": ".py",
   "mimetype": "text/x-python",
   "name": "python",
   "nbconvert_exporter": "python",
   "pygments_lexer": "ipython3",
   "version": "3.8.5"
  }
 },
 "nbformat": 4,
 "nbformat_minor": 2
}
