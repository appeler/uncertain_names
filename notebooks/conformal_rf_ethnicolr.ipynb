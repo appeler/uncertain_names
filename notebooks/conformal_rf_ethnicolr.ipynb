{
 "cells": [
  {
   "cell_type": "markdown",
   "id": "89004df0-b495-42a8-9b14-dd20a92bb4b2",
   "metadata": {},
   "source": [
    "### Conformal Prediction Set"
   ]
  },
  {
   "cell_type": "code",
   "execution_count": 1,
   "id": "7cc2b5de-6a5a-4a75-86b0-07aec2044c14",
   "metadata": {},
   "outputs": [],
   "source": [
    "import numpy as np\n",
    "import pandas as pd\n",
    "from sklearn.feature_extraction.text import CountVectorizer, TfidfVectorizer\n",
    "from sklearn.model_selection import train_test_split\n",
    "from sklearn.metrics import classification_report, confusion_matrix\n",
    "import joblib"
   ]
  },
  {
   "cell_type": "code",
   "execution_count": 2,
   "id": "aff1bb52-368c-41ac-972b-986e6114e5f8",
   "metadata": {},
   "outputs": [
    {
     "name": "stdout",
     "output_type": "stream",
     "text": [
      "CPU times: user 14.4 s, sys: 3.43 s, total: 17.8 s\n",
      "Wall time: 18.1 s\n"
     ]
    },
    {
     "data": {
      "text/html": [
       "<div>\n",
       "<style scoped>\n",
       "    .dataframe tbody tr th:only-of-type {\n",
       "        vertical-align: middle;\n",
       "    }\n",
       "\n",
       "    .dataframe tbody tr th {\n",
       "        vertical-align: top;\n",
       "    }\n",
       "\n",
       "    .dataframe thead th {\n",
       "        text-align: right;\n",
       "    }\n",
       "</style>\n",
       "<table border=\"1\" class=\"dataframe\">\n",
       "  <thead>\n",
       "    <tr style=\"text-align: right;\">\n",
       "      <th></th>\n",
       "      <th>name_last</th>\n",
       "      <th>name_first</th>\n",
       "      <th>race</th>\n",
       "    </tr>\n",
       "  </thead>\n",
       "  <tbody>\n",
       "    <tr>\n",
       "      <th>0</th>\n",
       "      <td>Hessler-Smith</td>\n",
       "      <td>Jason</td>\n",
       "      <td>nh_white</td>\n",
       "    </tr>\n",
       "    <tr>\n",
       "      <th>1</th>\n",
       "      <td>Rogers</td>\n",
       "      <td>Renee</td>\n",
       "      <td>nh_white</td>\n",
       "    </tr>\n",
       "    <tr>\n",
       "      <th>2</th>\n",
       "      <td>Bartolome</td>\n",
       "      <td>Crystal</td>\n",
       "      <td>nh_white</td>\n",
       "    </tr>\n",
       "    <tr>\n",
       "      <th>3</th>\n",
       "      <td>Bailey</td>\n",
       "      <td>Donna</td>\n",
       "      <td>nh_white</td>\n",
       "    </tr>\n",
       "    <tr>\n",
       "      <th>4</th>\n",
       "      <td>Carlson</td>\n",
       "      <td>Greggory</td>\n",
       "      <td>nh_white</td>\n",
       "    </tr>\n",
       "    <tr>\n",
       "      <th>...</th>\n",
       "      <td>...</td>\n",
       "      <td>...</td>\n",
       "      <td>...</td>\n",
       "    </tr>\n",
       "    <tr>\n",
       "      <th>15455105</th>\n",
       "      <td>Ballew</td>\n",
       "      <td>Christina</td>\n",
       "      <td>nh_white</td>\n",
       "    </tr>\n",
       "    <tr>\n",
       "      <th>15455106</th>\n",
       "      <td>Watts</td>\n",
       "      <td>Mark</td>\n",
       "      <td>nh_white</td>\n",
       "    </tr>\n",
       "    <tr>\n",
       "      <th>15455107</th>\n",
       "      <td>McRae</td>\n",
       "      <td>Evelyn</td>\n",
       "      <td>nh_white</td>\n",
       "    </tr>\n",
       "    <tr>\n",
       "      <th>15455108</th>\n",
       "      <td>Ward</td>\n",
       "      <td>Stephanie</td>\n",
       "      <td>nh_white</td>\n",
       "    </tr>\n",
       "    <tr>\n",
       "      <th>15455109</th>\n",
       "      <td>Edenfield</td>\n",
       "      <td>Marcus</td>\n",
       "      <td>nh_white</td>\n",
       "    </tr>\n",
       "  </tbody>\n",
       "</table>\n",
       "<p>15454908 rows × 3 columns</p>\n",
       "</div>"
      ],
      "text/plain": [
       "              name_last name_first      race\n",
       "0         Hessler-Smith      Jason  nh_white\n",
       "1                Rogers      Renee  nh_white\n",
       "2             Bartolome    Crystal  nh_white\n",
       "3                Bailey      Donna  nh_white\n",
       "4               Carlson   Greggory  nh_white\n",
       "...                 ...        ...       ...\n",
       "15455105         Ballew  Christina  nh_white\n",
       "15455106          Watts       Mark  nh_white\n",
       "15455107          McRae     Evelyn  nh_white\n",
       "15455108           Ward  Stephanie  nh_white\n",
       "15455109      Edenfield     Marcus  nh_white\n",
       "\n",
       "[15454908 rows x 3 columns]"
      ]
     },
     "execution_count": 2,
     "metadata": {},
     "output_type": "execute_result"
    }
   ],
   "source": [
    "%%time\n",
    "NGRAMS = 2\n",
    "SAMPLE = 2000000\n",
    "\n",
    "# Florida voter\n",
    "df = pd.read_csv('./data/fl_reg_name_race_2022.csv.gz')\n",
    "df.dropna(subset=['name_first', 'name_last'], inplace=True)\n",
    "df['race'] = df.race.map({'native_indian': 'other', 'asian': 'asian', 'nh_black': 'nh_black', 'hispanic': 'hispanic', 'nh_white': 'nh_white', 'other': 'other', 'multi_racial': 'other', 'unknown': 'unknown'})\n",
    "df"
   ]
  },
  {
   "cell_type": "code",
   "execution_count": 3,
   "id": "7683538c-4dbb-41e1-98ba-9188f41cc4ee",
   "metadata": {},
   "outputs": [
    {
     "data": {
      "text/html": [
       "<div>\n",
       "<style scoped>\n",
       "    .dataframe tbody tr th:only-of-type {\n",
       "        vertical-align: middle;\n",
       "    }\n",
       "\n",
       "    .dataframe tbody tr th {\n",
       "        vertical-align: top;\n",
       "    }\n",
       "\n",
       "    .dataframe thead th {\n",
       "        text-align: right;\n",
       "    }\n",
       "</style>\n",
       "<table border=\"1\" class=\"dataframe\">\n",
       "  <thead>\n",
       "    <tr style=\"text-align: right;\">\n",
       "      <th></th>\n",
       "      <th>name_last</th>\n",
       "      <th>name_first</th>\n",
       "      <th>race</th>\n",
       "    </tr>\n",
       "  </thead>\n",
       "  <tbody>\n",
       "    <tr>\n",
       "      <th>8442799</th>\n",
       "      <td>Nguyen</td>\n",
       "      <td>Chat Thi</td>\n",
       "      <td>asian</td>\n",
       "    </tr>\n",
       "    <tr>\n",
       "      <th>14389117</th>\n",
       "      <td>Olinger</td>\n",
       "      <td>Yan</td>\n",
       "      <td>asian</td>\n",
       "    </tr>\n",
       "    <tr>\n",
       "      <th>11881266</th>\n",
       "      <td>Klinshaw</td>\n",
       "      <td>Catherine</td>\n",
       "      <td>asian</td>\n",
       "    </tr>\n",
       "    <tr>\n",
       "      <th>13434626</th>\n",
       "      <td>Webb</td>\n",
       "      <td>Vilma</td>\n",
       "      <td>asian</td>\n",
       "    </tr>\n",
       "    <tr>\n",
       "      <th>12819255</th>\n",
       "      <td>Pilapil</td>\n",
       "      <td>Michelle</td>\n",
       "      <td>asian</td>\n",
       "    </tr>\n",
       "    <tr>\n",
       "      <th>...</th>\n",
       "      <td>...</td>\n",
       "      <td>...</td>\n",
       "      <td>...</td>\n",
       "    </tr>\n",
       "    <tr>\n",
       "      <th>152411</th>\n",
       "      <td>Moorer</td>\n",
       "      <td>Patrick</td>\n",
       "      <td>other</td>\n",
       "    </tr>\n",
       "    <tr>\n",
       "      <th>6311028</th>\n",
       "      <td>Toll</td>\n",
       "      <td>David</td>\n",
       "      <td>other</td>\n",
       "    </tr>\n",
       "    <tr>\n",
       "      <th>11681567</th>\n",
       "      <td>Forrest</td>\n",
       "      <td>Jacobie</td>\n",
       "      <td>other</td>\n",
       "    </tr>\n",
       "    <tr>\n",
       "      <th>5030078</th>\n",
       "      <td>Virupaksha</td>\n",
       "      <td>Bharathi</td>\n",
       "      <td>other</td>\n",
       "    </tr>\n",
       "    <tr>\n",
       "      <th>7956996</th>\n",
       "      <td>Mardam-Bey</td>\n",
       "      <td>Tarek</td>\n",
       "      <td>other</td>\n",
       "    </tr>\n",
       "  </tbody>\n",
       "</table>\n",
       "<p>1000000 rows × 3 columns</p>\n",
       "</div>"
      ],
      "text/plain": [
       "           name_last name_first   race\n",
       "8442799       Nguyen   Chat Thi  asian\n",
       "14389117     Olinger        Yan  asian\n",
       "11881266    Klinshaw  Catherine  asian\n",
       "13434626        Webb      Vilma  asian\n",
       "12819255     Pilapil   Michelle  asian\n",
       "...              ...        ...    ...\n",
       "152411        Moorer    Patrick  other\n",
       "6311028         Toll      David  other\n",
       "11681567     Forrest    Jacobie  other\n",
       "5030078   Virupaksha   Bharathi  other\n",
       "7956996   Mardam-Bey      Tarek  other\n",
       "\n",
       "[1000000 rows x 3 columns]"
      ]
     },
     "execution_count": 3,
     "metadata": {},
     "output_type": "execute_result"
    }
   ],
   "source": [
    "sdf = df[df.race.isin(['unknown']) == False].groupby(['race']).sample(int(SAMPLE/5), random_state=21)\n",
    "del df\n",
    "\n",
    "# Additional features\n",
    "sdf['name_first'] = sdf.name_first.str.title()\n",
    "sdf['name_last'] = sdf.name_last.str.title()\n",
    "sdf"
   ]
  },
  {
   "cell_type": "code",
   "execution_count": 4,
   "id": "d89d59a6-c4ee-49d8-b381-2fabb8a23091",
   "metadata": {},
   "outputs": [
    {
     "data": {
      "text/html": [
       "<div>\n",
       "<style scoped>\n",
       "    .dataframe tbody tr th:only-of-type {\n",
       "        vertical-align: middle;\n",
       "    }\n",
       "\n",
       "    .dataframe tbody tr th {\n",
       "        vertical-align: top;\n",
       "    }\n",
       "\n",
       "    .dataframe thead th {\n",
       "        text-align: right;\n",
       "    }\n",
       "</style>\n",
       "<table border=\"1\" class=\"dataframe\">\n",
       "  <thead>\n",
       "    <tr style=\"text-align: right;\">\n",
       "      <th></th>\n",
       "      <th>name_last</th>\n",
       "    </tr>\n",
       "    <tr>\n",
       "      <th>race</th>\n",
       "      <th></th>\n",
       "    </tr>\n",
       "  </thead>\n",
       "  <tbody>\n",
       "    <tr>\n",
       "      <th>asian</th>\n",
       "      <td>200000</td>\n",
       "    </tr>\n",
       "    <tr>\n",
       "      <th>hispanic</th>\n",
       "      <td>200000</td>\n",
       "    </tr>\n",
       "    <tr>\n",
       "      <th>nh_black</th>\n",
       "      <td>200000</td>\n",
       "    </tr>\n",
       "    <tr>\n",
       "      <th>nh_white</th>\n",
       "      <td>200000</td>\n",
       "    </tr>\n",
       "    <tr>\n",
       "      <th>other</th>\n",
       "      <td>200000</td>\n",
       "    </tr>\n",
       "  </tbody>\n",
       "</table>\n",
       "</div>"
      ],
      "text/plain": [
       "          name_last\n",
       "race               \n",
       "asian        200000\n",
       "hispanic     200000\n",
       "nh_black     200000\n",
       "nh_white     200000\n",
       "other        200000"
      ]
     },
     "execution_count": 4,
     "metadata": {},
     "output_type": "execute_result"
    }
   ],
   "source": [
    "rdf = sdf.groupby('race').agg({'name_last': 'count'})\n",
    "rdf.to_csv('fl_name_race_2022.csv', columns=[])\n",
    "rdf"
   ]
  },
  {
   "cell_type": "code",
   "execution_count": 5,
   "id": "583d99b9-ba5a-494d-9804-249a82bb539f",
   "metadata": {},
   "outputs": [
    {
     "data": {
      "text/html": [
       "<div>\n",
       "<style scoped>\n",
       "    .dataframe tbody tr th:only-of-type {\n",
       "        vertical-align: middle;\n",
       "    }\n",
       "\n",
       "    .dataframe tbody tr th {\n",
       "        vertical-align: top;\n",
       "    }\n",
       "\n",
       "    .dataframe thead th {\n",
       "        text-align: right;\n",
       "    }\n",
       "</style>\n",
       "<table border=\"1\" class=\"dataframe\">\n",
       "  <thead>\n",
       "    <tr style=\"text-align: right;\">\n",
       "      <th></th>\n",
       "      <th>name_last</th>\n",
       "    </tr>\n",
       "    <tr>\n",
       "      <th>race</th>\n",
       "      <th></th>\n",
       "    </tr>\n",
       "  </thead>\n",
       "  <tbody>\n",
       "    <tr>\n",
       "      <th>asian</th>\n",
       "      <td>50592</td>\n",
       "    </tr>\n",
       "    <tr>\n",
       "      <th>hispanic</th>\n",
       "      <td>55412</td>\n",
       "    </tr>\n",
       "    <tr>\n",
       "      <th>nh_black</th>\n",
       "      <td>29993</td>\n",
       "    </tr>\n",
       "    <tr>\n",
       "      <th>nh_white</th>\n",
       "      <td>66038</td>\n",
       "    </tr>\n",
       "    <tr>\n",
       "      <th>other</th>\n",
       "      <td>68407</td>\n",
       "    </tr>\n",
       "  </tbody>\n",
       "</table>\n",
       "</div>"
      ],
      "text/plain": [
       "          name_last\n",
       "race               \n",
       "asian         50592\n",
       "hispanic      55412\n",
       "nh_black      29993\n",
       "nh_white      66038\n",
       "other         68407"
      ]
     },
     "execution_count": 5,
     "metadata": {},
     "output_type": "execute_result"
    }
   ],
   "source": [
    "sdf.groupby('race').agg({'name_last': 'nunique'})"
   ]
  },
  {
   "cell_type": "code",
   "execution_count": 6,
   "id": "2e582aec-b087-4fd4-95ba-e485f6c60947",
   "metadata": {},
   "outputs": [],
   "source": [
    "### Preprocessing Inputs\n",
    "# concat last name and first name\n",
    "sdf['name'] = sdf['name_last'] + ' ' + sdf['name_first']\n",
    "sdf['race_id'] = sdf.race.factorize()[0]\n",
    "X = sdf.name\n",
    "y = sdf.race_id"
   ]
  },
  {
   "cell_type": "code",
   "execution_count": 7,
   "id": "3a2cbfff-f055-45ea-91d1-501aa15f1474",
   "metadata": {},
   "outputs": [],
   "source": [
    "race_id_df = sdf[['race', 'race_id']].drop_duplicates().sort_values('race_id')\n",
    "race_to_id = dict(race_id_df.values)\n",
    "id_to_race = dict(race_id_df[['race_id', 'race']].values)"
   ]
  },
  {
   "cell_type": "code",
   "execution_count": 8,
   "id": "fa2474f1-48ea-435a-ab27-09309bbf6ce9",
   "metadata": {},
   "outputs": [
    {
     "data": {
      "text/plain": [
       "(1000000, 1377)"
      ]
     },
     "execution_count": 8,
     "metadata": {},
     "output_type": "execute_result"
    }
   ],
   "source": [
    "vect = CountVectorizer(analyzer='char', max_df=0.3, min_df=5, ngram_range=(1, NGRAMS), lowercase=False) \n",
    "\n",
    "features = vect.fit_transform(sdf.name).toarray()\n",
    "labels = sdf.race_id\n",
    "features.shape"
   ]
  },
  {
   "cell_type": "code",
   "execution_count": 9,
   "id": "06882fc4-1791-4598-b4c1-717ffaf157e9",
   "metadata": {},
   "outputs": [],
   "source": [
    "# Split train and test dataset\n",
    "X_train,  X_test, y_train, y_test = train_test_split(X, y, test_size=0.2, random_state=21, stratify=y)"
   ]
  },
  {
   "cell_type": "code",
   "execution_count": 10,
   "id": "48a222f8-8511-4d5b-a8f7-5a77129a7c91",
   "metadata": {},
   "outputs": [],
   "source": [
    "X_combined_transformed = vect.fit_transform(X)\n",
    "\n",
    "# Transform the training data\n",
    "X_train = X_combined_transformed[:X_train.shape[0]]\n",
    "\n",
    "# Transform the test data\n",
    "X_test = X_combined_transformed[X_train.shape[0]:]"
   ]
  },
  {
   "cell_type": "code",
   "execution_count": 11,
   "id": "8b21cc9d-5a26-45d0-b595-7979cb3b3ac5",
   "metadata": {},
   "outputs": [
    {
     "name": "stdout",
     "output_type": "stream",
     "text": [
      "CPU times: user 59min 39s, sys: 4.62 s, total: 59min 43s\n",
      "Wall time: 59min 44s\n"
     ]
    }
   ],
   "source": [
    "%%time\n",
    "#Import Random Forest Model\n",
    "from sklearn.ensemble import RandomForestClassifier\n",
    "#Import scikit-learn metrics module for accuracy calculation\n",
    "from sklearn import metrics\n",
    "import numpy as np\n",
    "from sklearn.svm import SVC\n",
    "from nonconformist.cp import IcpClassifier\n",
    "from nonconformist.nc import NcFactory\n",
    "\n",
    "#Create a Gaussian Classifier\n",
    "clf = RandomForestClassifier(n_estimators=10, criterion = 'entropy', random_state=21)\n",
    "nc = NcFactory.create_nc(clf)# Create a default nonconformity function\n",
    "icp = IcpClassifier(nc)\n",
    "\n",
    "# Fit the conformal predictor using the training data\n",
    "icp.fit(X_train, y_train)"
   ]
  },
  {
   "cell_type": "code",
   "execution_count": 12,
   "id": "d0807be1-1acb-48e7-a8c9-4109ab49b0ce",
   "metadata": {},
   "outputs": [],
   "source": [
    "icp.calibrate(X_test, y_test)"
   ]
  },
  {
   "cell_type": "code",
   "execution_count": 13,
   "id": "e3d6d40f-6d31-4c12-a301-59a3c41d9e71",
   "metadata": {},
   "outputs": [
    {
     "name": "stderr",
     "output_type": "stream",
     "text": [
      "<__array_function__ internals>:180: SparseEfficiencyWarning: Comparing sparse matrices using == is inefficient, try using != instead.\n"
     ]
    }
   ],
   "source": [
    "# Generate conformal predictions for the test data\n",
    "predictions = icp.predict(X_test, significance=0.1)"
   ]
  },
  {
   "cell_type": "code",
   "execution_count": 14,
   "id": "f77f410e-182e-44fa-b08e-bf42c97176ba",
   "metadata": {},
   "outputs": [
    {
     "data": {
      "text/plain": [
       "4.499035"
      ]
     },
     "execution_count": 14,
     "metadata": {},
     "output_type": "execute_result"
    }
   ],
   "source": [
    "predictions.sum(axis = 1).mean()"
   ]
  },
  {
   "cell_type": "code",
   "execution_count": 12,
   "id": "7fd0f177-f3b1-4a8f-b726-d8d657439a22",
   "metadata": {},
   "outputs": [],
   "source": [
    "import torch\n",
    "import numpy as np\n",
    "import pandas"
   ]
  },
  {
   "cell_type": "code",
   "execution_count": 11,
   "id": "590c1922-5e0e-4400-bf24-93c7961a2715",
   "metadata": {},
   "outputs": [],
   "source": [
    "lstm_mod = torch.load('/home/jupyter/notebooks/ethnicolr/v2/models/lstm_FullName_pytorch_81_acc_2layers.pt',\n",
    "          map_location=torch.device('cpu'))"
   ]
  }
 ],
 "metadata": {
  "kernelspec": {
   "display_name": "Python 3 (ipykernel)",
   "language": "python",
   "name": "python3"
  },
  "language_info": {
   "codemirror_mode": {
    "name": "ipython",
    "version": 3
   },
   "file_extension": ".py",
   "mimetype": "text/x-python",
   "name": "python",
   "nbconvert_exporter": "python",
   "pygments_lexer": "ipython3",
   "version": "3.8.10"
  }
 },
 "nbformat": 4,
 "nbformat_minor": 5
}
